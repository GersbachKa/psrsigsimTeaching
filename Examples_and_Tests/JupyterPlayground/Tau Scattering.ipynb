{
 "cells": [
  {
   "cell_type": "code",
   "execution_count": 2,
   "metadata": {},
   "outputs": [],
   "source": [
    "%load_ext autoreload\n",
    "%autoreload 2\n",
    "import sys\n",
    "sys.path.insert(0,'/home/kyle/GWA/NANOGrav/PsrSigSim/')\n",
    "import psrsigsim as PSS\n",
    "import numpy as np"
   ]
  },
  {
   "cell_type": "code",
   "execution_count": 3,
   "metadata": {},
   "outputs": [
    {
     "data": {
      "text/html": [
       "\n",
       "    <div class=\"bk-root\">\n",
       "        <a href=\"https://bokeh.pydata.org\" target=\"_blank\" class=\"bk-logo bk-logo-small bk-logo-notebook\"></a>\n",
       "        <span id=\"8ccc624b-66ce-4141-ac4a-7721e4e03c27\">Loading BokehJS ...</span>\n",
       "    </div>"
      ]
     },
     "metadata": {},
     "output_type": "display_data"
    },
    {
     "data": {
      "application/javascript": [
       "\n",
       "(function(root) {\n",
       "  function now() {\n",
       "    return new Date();\n",
       "  }\n",
       "\n",
       "  var force = true;\n",
       "\n",
       "  if (typeof (root._bokeh_onload_callbacks) === \"undefined\" || force === true) {\n",
       "    root._bokeh_onload_callbacks = [];\n",
       "    root._bokeh_is_loading = undefined;\n",
       "  }\n",
       "\n",
       "  var JS_MIME_TYPE = 'application/javascript';\n",
       "  var HTML_MIME_TYPE = 'text/html';\n",
       "  var EXEC_MIME_TYPE = 'application/vnd.bokehjs_exec.v0+json';\n",
       "  var CLASS_NAME = 'output_bokeh rendered_html';\n",
       "\n",
       "  /**\n",
       "   * Render data to the DOM node\n",
       "   */\n",
       "  function render(props, node) {\n",
       "    var script = document.createElement(\"script\");\n",
       "    node.appendChild(script);\n",
       "  }\n",
       "\n",
       "  /**\n",
       "   * Handle when an output is cleared or removed\n",
       "   */\n",
       "  function handleClearOutput(event, handle) {\n",
       "    var cell = handle.cell;\n",
       "\n",
       "    var id = cell.output_area._bokeh_element_id;\n",
       "    var server_id = cell.output_area._bokeh_server_id;\n",
       "    // Clean up Bokeh references\n",
       "    if (id != null && id in Bokeh.index) {\n",
       "      Bokeh.index[id].model.document.clear();\n",
       "      delete Bokeh.index[id];\n",
       "    }\n",
       "\n",
       "    if (server_id !== undefined) {\n",
       "      // Clean up Bokeh references\n",
       "      var cmd = \"from bokeh.io.state import curstate; print(curstate().uuid_to_server['\" + server_id + \"'].get_sessions()[0].document.roots[0]._id)\";\n",
       "      cell.notebook.kernel.execute(cmd, {\n",
       "        iopub: {\n",
       "          output: function(msg) {\n",
       "            var id = msg.content.text.trim();\n",
       "            if (id in Bokeh.index) {\n",
       "              Bokeh.index[id].model.document.clear();\n",
       "              delete Bokeh.index[id];\n",
       "            }\n",
       "          }\n",
       "        }\n",
       "      });\n",
       "      // Destroy server and session\n",
       "      var cmd = \"import bokeh.io.notebook as ion; ion.destroy_server('\" + server_id + \"')\";\n",
       "      cell.notebook.kernel.execute(cmd);\n",
       "    }\n",
       "  }\n",
       "\n",
       "  /**\n",
       "   * Handle when a new output is added\n",
       "   */\n",
       "  function handleAddOutput(event, handle) {\n",
       "    var output_area = handle.output_area;\n",
       "    var output = handle.output;\n",
       "\n",
       "    // limit handleAddOutput to display_data with EXEC_MIME_TYPE content only\n",
       "    if ((output.output_type != \"display_data\") || (!output.data.hasOwnProperty(EXEC_MIME_TYPE))) {\n",
       "      return\n",
       "    }\n",
       "\n",
       "    var toinsert = output_area.element.find(\".\" + CLASS_NAME.split(' ')[0]);\n",
       "\n",
       "    if (output.metadata[EXEC_MIME_TYPE][\"id\"] !== undefined) {\n",
       "      toinsert[toinsert.length - 1].firstChild.textContent = output.data[JS_MIME_TYPE];\n",
       "      // store reference to embed id on output_area\n",
       "      output_area._bokeh_element_id = output.metadata[EXEC_MIME_TYPE][\"id\"];\n",
       "    }\n",
       "    if (output.metadata[EXEC_MIME_TYPE][\"server_id\"] !== undefined) {\n",
       "      var bk_div = document.createElement(\"div\");\n",
       "      bk_div.innerHTML = output.data[HTML_MIME_TYPE];\n",
       "      var script_attrs = bk_div.children[0].attributes;\n",
       "      for (var i = 0; i < script_attrs.length; i++) {\n",
       "        toinsert[toinsert.length - 1].firstChild.setAttribute(script_attrs[i].name, script_attrs[i].value);\n",
       "      }\n",
       "      // store reference to server id on output_area\n",
       "      output_area._bokeh_server_id = output.metadata[EXEC_MIME_TYPE][\"server_id\"];\n",
       "    }\n",
       "  }\n",
       "\n",
       "  function register_renderer(events, OutputArea) {\n",
       "\n",
       "    function append_mime(data, metadata, element) {\n",
       "      // create a DOM node to render to\n",
       "      var toinsert = this.create_output_subarea(\n",
       "        metadata,\n",
       "        CLASS_NAME,\n",
       "        EXEC_MIME_TYPE\n",
       "      );\n",
       "      this.keyboard_manager.register_events(toinsert);\n",
       "      // Render to node\n",
       "      var props = {data: data, metadata: metadata[EXEC_MIME_TYPE]};\n",
       "      render(props, toinsert[toinsert.length - 1]);\n",
       "      element.append(toinsert);\n",
       "      return toinsert\n",
       "    }\n",
       "\n",
       "    /* Handle when an output is cleared or removed */\n",
       "    events.on('clear_output.CodeCell', handleClearOutput);\n",
       "    events.on('delete.Cell', handleClearOutput);\n",
       "\n",
       "    /* Handle when a new output is added */\n",
       "    events.on('output_added.OutputArea', handleAddOutput);\n",
       "\n",
       "    /**\n",
       "     * Register the mime type and append_mime function with output_area\n",
       "     */\n",
       "    OutputArea.prototype.register_mime_type(EXEC_MIME_TYPE, append_mime, {\n",
       "      /* Is output safe? */\n",
       "      safe: true,\n",
       "      /* Index of renderer in `output_area.display_order` */\n",
       "      index: 0\n",
       "    });\n",
       "  }\n",
       "\n",
       "  // register the mime type if in Jupyter Notebook environment and previously unregistered\n",
       "  if (root.Jupyter !== undefined) {\n",
       "    var events = require('base/js/events');\n",
       "    var OutputArea = require('notebook/js/outputarea').OutputArea;\n",
       "\n",
       "    if (OutputArea.prototype.mime_types().indexOf(EXEC_MIME_TYPE) == -1) {\n",
       "      register_renderer(events, OutputArea);\n",
       "    }\n",
       "  }\n",
       "\n",
       "  \n",
       "  if (typeof (root._bokeh_timeout) === \"undefined\" || force === true) {\n",
       "    root._bokeh_timeout = Date.now() + 5000;\n",
       "    root._bokeh_failed_load = false;\n",
       "  }\n",
       "\n",
       "  var NB_LOAD_WARNING = {'data': {'text/html':\n",
       "     \"<div style='background-color: #fdd'>\\n\"+\n",
       "     \"<p>\\n\"+\n",
       "     \"BokehJS does not appear to have successfully loaded. If loading BokehJS from CDN, this \\n\"+\n",
       "     \"may be due to a slow or bad network connection. Possible fixes:\\n\"+\n",
       "     \"</p>\\n\"+\n",
       "     \"<ul>\\n\"+\n",
       "     \"<li>re-rerun `output_notebook()` to attempt to load from CDN again, or</li>\\n\"+\n",
       "     \"<li>use INLINE resources instead, as so:</li>\\n\"+\n",
       "     \"</ul>\\n\"+\n",
       "     \"<code>\\n\"+\n",
       "     \"from bokeh.resources import INLINE\\n\"+\n",
       "     \"output_notebook(resources=INLINE)\\n\"+\n",
       "     \"</code>\\n\"+\n",
       "     \"</div>\"}};\n",
       "\n",
       "  function display_loaded() {\n",
       "    var el = document.getElementById(\"8ccc624b-66ce-4141-ac4a-7721e4e03c27\");\n",
       "    if (el != null) {\n",
       "      el.textContent = \"BokehJS is loading...\";\n",
       "    }\n",
       "    if (root.Bokeh !== undefined) {\n",
       "      if (el != null) {\n",
       "        el.textContent = \"BokehJS \" + root.Bokeh.version + \" successfully loaded.\";\n",
       "      }\n",
       "    } else if (Date.now() < root._bokeh_timeout) {\n",
       "      setTimeout(display_loaded, 100)\n",
       "    }\n",
       "  }\n",
       "\n",
       "\n",
       "  function run_callbacks() {\n",
       "    try {\n",
       "      root._bokeh_onload_callbacks.forEach(function(callback) { callback() });\n",
       "    }\n",
       "    finally {\n",
       "      delete root._bokeh_onload_callbacks\n",
       "    }\n",
       "    console.info(\"Bokeh: all callbacks have finished\");\n",
       "  }\n",
       "\n",
       "  function load_libs(js_urls, callback) {\n",
       "    root._bokeh_onload_callbacks.push(callback);\n",
       "    if (root._bokeh_is_loading > 0) {\n",
       "      console.log(\"Bokeh: BokehJS is being loaded, scheduling callback at\", now());\n",
       "      return null;\n",
       "    }\n",
       "    if (js_urls == null || js_urls.length === 0) {\n",
       "      run_callbacks();\n",
       "      return null;\n",
       "    }\n",
       "    console.log(\"Bokeh: BokehJS not loaded, scheduling load and callback at\", now());\n",
       "    root._bokeh_is_loading = js_urls.length;\n",
       "    for (var i = 0; i < js_urls.length; i++) {\n",
       "      var url = js_urls[i];\n",
       "      var s = document.createElement('script');\n",
       "      s.src = url;\n",
       "      s.async = false;\n",
       "      s.onreadystatechange = s.onload = function() {\n",
       "        root._bokeh_is_loading--;\n",
       "        if (root._bokeh_is_loading === 0) {\n",
       "          console.log(\"Bokeh: all BokehJS libraries loaded\");\n",
       "          run_callbacks()\n",
       "        }\n",
       "      };\n",
       "      s.onerror = function() {\n",
       "        console.warn(\"failed to load library \" + url);\n",
       "      };\n",
       "      console.log(\"Bokeh: injecting script tag for BokehJS library: \", url);\n",
       "      document.getElementsByTagName(\"head\")[0].appendChild(s);\n",
       "    }\n",
       "  };var element = document.getElementById(\"8ccc624b-66ce-4141-ac4a-7721e4e03c27\");\n",
       "  if (element == null) {\n",
       "    console.log(\"Bokeh: ERROR: autoload.js configured with elementid '8ccc624b-66ce-4141-ac4a-7721e4e03c27' but no matching script tag was found. \")\n",
       "    return false;\n",
       "  }\n",
       "\n",
       "  var js_urls = [\"https://cdn.pydata.org/bokeh/release/bokeh-0.13.0.min.js\", \"https://cdn.pydata.org/bokeh/release/bokeh-widgets-0.13.0.min.js\", \"https://cdn.pydata.org/bokeh/release/bokeh-tables-0.13.0.min.js\", \"https://cdn.pydata.org/bokeh/release/bokeh-gl-0.13.0.min.js\"];\n",
       "\n",
       "  var inline_js = [\n",
       "    function(Bokeh) {\n",
       "      Bokeh.set_log_level(\"info\");\n",
       "    },\n",
       "    \n",
       "    function(Bokeh) {\n",
       "      \n",
       "    },\n",
       "    function(Bokeh) {\n",
       "      console.log(\"Bokeh: injecting CSS: https://cdn.pydata.org/bokeh/release/bokeh-0.13.0.min.css\");\n",
       "      Bokeh.embed.inject_css(\"https://cdn.pydata.org/bokeh/release/bokeh-0.13.0.min.css\");\n",
       "      console.log(\"Bokeh: injecting CSS: https://cdn.pydata.org/bokeh/release/bokeh-widgets-0.13.0.min.css\");\n",
       "      Bokeh.embed.inject_css(\"https://cdn.pydata.org/bokeh/release/bokeh-widgets-0.13.0.min.css\");\n",
       "      console.log(\"Bokeh: injecting CSS: https://cdn.pydata.org/bokeh/release/bokeh-tables-0.13.0.min.css\");\n",
       "      Bokeh.embed.inject_css(\"https://cdn.pydata.org/bokeh/release/bokeh-tables-0.13.0.min.css\");\n",
       "    }\n",
       "  ];\n",
       "\n",
       "  function run_inline_js() {\n",
       "    \n",
       "    if ((root.Bokeh !== undefined) || (force === true)) {\n",
       "      for (var i = 0; i < inline_js.length; i++) {\n",
       "        inline_js[i].call(root, root.Bokeh);\n",
       "      }if (force === true) {\n",
       "        display_loaded();\n",
       "      }} else if (Date.now() < root._bokeh_timeout) {\n",
       "      setTimeout(run_inline_js, 100);\n",
       "    } else if (!root._bokeh_failed_load) {\n",
       "      console.log(\"Bokeh: BokehJS failed to load within specified timeout.\");\n",
       "      root._bokeh_failed_load = true;\n",
       "    } else if (force !== true) {\n",
       "      var cell = $(document.getElementById(\"8ccc624b-66ce-4141-ac4a-7721e4e03c27\")).parents('.cell').data().cell;\n",
       "      cell.output_area.append_execute_result(NB_LOAD_WARNING)\n",
       "    }\n",
       "\n",
       "  }\n",
       "\n",
       "  if (root._bokeh_is_loading === 0) {\n",
       "    console.log(\"Bokeh: BokehJS loaded, going straight to plotting\");\n",
       "    run_inline_js();\n",
       "  } else {\n",
       "    load_libs(js_urls, function() {\n",
       "      console.log(\"Bokeh: BokehJS plotting callback run at\", now());\n",
       "      run_inline_js();\n",
       "    });\n",
       "  }\n",
       "}(window));"
      ],
      "application/vnd.bokehjs_load.v0+json": "\n(function(root) {\n  function now() {\n    return new Date();\n  }\n\n  var force = true;\n\n  if (typeof (root._bokeh_onload_callbacks) === \"undefined\" || force === true) {\n    root._bokeh_onload_callbacks = [];\n    root._bokeh_is_loading = undefined;\n  }\n\n  \n\n  \n  if (typeof (root._bokeh_timeout) === \"undefined\" || force === true) {\n    root._bokeh_timeout = Date.now() + 5000;\n    root._bokeh_failed_load = false;\n  }\n\n  var NB_LOAD_WARNING = {'data': {'text/html':\n     \"<div style='background-color: #fdd'>\\n\"+\n     \"<p>\\n\"+\n     \"BokehJS does not appear to have successfully loaded. If loading BokehJS from CDN, this \\n\"+\n     \"may be due to a slow or bad network connection. Possible fixes:\\n\"+\n     \"</p>\\n\"+\n     \"<ul>\\n\"+\n     \"<li>re-rerun `output_notebook()` to attempt to load from CDN again, or</li>\\n\"+\n     \"<li>use INLINE resources instead, as so:</li>\\n\"+\n     \"</ul>\\n\"+\n     \"<code>\\n\"+\n     \"from bokeh.resources import INLINE\\n\"+\n     \"output_notebook(resources=INLINE)\\n\"+\n     \"</code>\\n\"+\n     \"</div>\"}};\n\n  function display_loaded() {\n    var el = document.getElementById(\"8ccc624b-66ce-4141-ac4a-7721e4e03c27\");\n    if (el != null) {\n      el.textContent = \"BokehJS is loading...\";\n    }\n    if (root.Bokeh !== undefined) {\n      if (el != null) {\n        el.textContent = \"BokehJS \" + root.Bokeh.version + \" successfully loaded.\";\n      }\n    } else if (Date.now() < root._bokeh_timeout) {\n      setTimeout(display_loaded, 100)\n    }\n  }\n\n\n  function run_callbacks() {\n    try {\n      root._bokeh_onload_callbacks.forEach(function(callback) { callback() });\n    }\n    finally {\n      delete root._bokeh_onload_callbacks\n    }\n    console.info(\"Bokeh: all callbacks have finished\");\n  }\n\n  function load_libs(js_urls, callback) {\n    root._bokeh_onload_callbacks.push(callback);\n    if (root._bokeh_is_loading > 0) {\n      console.log(\"Bokeh: BokehJS is being loaded, scheduling callback at\", now());\n      return null;\n    }\n    if (js_urls == null || js_urls.length === 0) {\n      run_callbacks();\n      return null;\n    }\n    console.log(\"Bokeh: BokehJS not loaded, scheduling load and callback at\", now());\n    root._bokeh_is_loading = js_urls.length;\n    for (var i = 0; i < js_urls.length; i++) {\n      var url = js_urls[i];\n      var s = document.createElement('script');\n      s.src = url;\n      s.async = false;\n      s.onreadystatechange = s.onload = function() {\n        root._bokeh_is_loading--;\n        if (root._bokeh_is_loading === 0) {\n          console.log(\"Bokeh: all BokehJS libraries loaded\");\n          run_callbacks()\n        }\n      };\n      s.onerror = function() {\n        console.warn(\"failed to load library \" + url);\n      };\n      console.log(\"Bokeh: injecting script tag for BokehJS library: \", url);\n      document.getElementsByTagName(\"head\")[0].appendChild(s);\n    }\n  };var element = document.getElementById(\"8ccc624b-66ce-4141-ac4a-7721e4e03c27\");\n  if (element == null) {\n    console.log(\"Bokeh: ERROR: autoload.js configured with elementid '8ccc624b-66ce-4141-ac4a-7721e4e03c27' but no matching script tag was found. \")\n    return false;\n  }\n\n  var js_urls = [\"https://cdn.pydata.org/bokeh/release/bokeh-0.13.0.min.js\", \"https://cdn.pydata.org/bokeh/release/bokeh-widgets-0.13.0.min.js\", \"https://cdn.pydata.org/bokeh/release/bokeh-tables-0.13.0.min.js\", \"https://cdn.pydata.org/bokeh/release/bokeh-gl-0.13.0.min.js\"];\n\n  var inline_js = [\n    function(Bokeh) {\n      Bokeh.set_log_level(\"info\");\n    },\n    \n    function(Bokeh) {\n      \n    },\n    function(Bokeh) {\n      console.log(\"Bokeh: injecting CSS: https://cdn.pydata.org/bokeh/release/bokeh-0.13.0.min.css\");\n      Bokeh.embed.inject_css(\"https://cdn.pydata.org/bokeh/release/bokeh-0.13.0.min.css\");\n      console.log(\"Bokeh: injecting CSS: https://cdn.pydata.org/bokeh/release/bokeh-widgets-0.13.0.min.css\");\n      Bokeh.embed.inject_css(\"https://cdn.pydata.org/bokeh/release/bokeh-widgets-0.13.0.min.css\");\n      console.log(\"Bokeh: injecting CSS: https://cdn.pydata.org/bokeh/release/bokeh-tables-0.13.0.min.css\");\n      Bokeh.embed.inject_css(\"https://cdn.pydata.org/bokeh/release/bokeh-tables-0.13.0.min.css\");\n    }\n  ];\n\n  function run_inline_js() {\n    \n    if ((root.Bokeh !== undefined) || (force === true)) {\n      for (var i = 0; i < inline_js.length; i++) {\n        inline_js[i].call(root, root.Bokeh);\n      }if (force === true) {\n        display_loaded();\n      }} else if (Date.now() < root._bokeh_timeout) {\n      setTimeout(run_inline_js, 100);\n    } else if (!root._bokeh_failed_load) {\n      console.log(\"Bokeh: BokehJS failed to load within specified timeout.\");\n      root._bokeh_failed_load = true;\n    } else if (force !== true) {\n      var cell = $(document.getElementById(\"8ccc624b-66ce-4141-ac4a-7721e4e03c27\")).parents('.cell').data().cell;\n      cell.output_area.append_execute_result(NB_LOAD_WARNING)\n    }\n\n  }\n\n  if (root._bokeh_is_loading === 0) {\n    console.log(\"Bokeh: BokehJS loaded, going straight to plotting\");\n    run_inline_js();\n  } else {\n    load_libs(js_urls, function() {\n      console.log(\"Bokeh: BokehJS plotting callback run at\", now());\n      run_inline_js();\n    });\n  }\n}(window));"
     },
     "metadata": {},
     "output_type": "display_data"
    }
   ],
   "source": [
    "#Bokeh imports\n",
    "from bokeh.io import curdoc, output_file, show, output_notebook\n",
    "from bokeh.layouts import column, row, widgetbox\n",
    "from bokeh.models import ColumnDataSource, Range1d, LinearColorMapper\n",
    "import bokeh.models.widgets as widgets\n",
    "from bokeh.plotting import figure\n",
    "\n",
    "output_notebook()"
   ]
  },
  {
   "cell_type": "code",
   "execution_count": 14,
   "metadata": {},
   "outputs": [],
   "source": [
    "#Default values for psr_dict----------------------------------------------------\n",
    "psr_dict = {}\n",
    "psr_dict['f0'] = 1150                   #Central frequency\n",
    "psr_dict['F0'] = 218                    #Pulsar spin freq\n",
    "psr_dict['bw'] = 1700                    #Bandwidth\n",
    "psr_dict['Nf'] = 34                    #Frequency bins\n",
    "psr_dict['ObsTime'] = 20                #Observation time\n",
    "psr_dict['f_samp'] = .4                  #Sampling frequency\n",
    "psr_dict['SignalType'] = \"intensity\"    #'intensity' which carries a Nf x Nt\n",
    "#filterbank of pulses or 'voltage' which carries a 4 x Nt array of\n",
    "#voltage vs. time pulses representing 4 stokes channels\n",
    "psr_dict['dm'] = 0.00001                      #Dispersion Measure Pescs/(CM^3)\n",
    "# V_ISS -- Intersteller Scintilation Velocity\n",
    "#psr_dict['scint_bw'] =  15.6            #Scintilation Bandwidth\n",
    "psr_dict['tau_scatter'] =0.000001       #Scattering Timescale\n",
    "# pulsar -- pulsar name\n",
    "# telescope -- telescope name(GBT or Arecibo)\n",
    "psr_dict['freq_band'] = 1400            #Frequency band [327 ,430, 820, 1400, 2300]\n",
    "# aperature -- aperature (m)\n",
    "# area -- collecting area (m^2)\n",
    "# Tsys -- system temp (K), total of receiver, sky, spillover, etc. (only needed for noise)\n",
    "# name -- GBT or Arecibo\n",
    "# tau_scatter -- scattering time (ms)\n",
    "psr_dict['radiometer_noise'] =  False  #radiometer noise\n",
    "psr_dict['data_type']='float32'         #Was int8\n",
    "psr_dict['flux'] = 80\n",
    "psr_dict['to_DM_Broaden'] = False\n",
    "psr_dict['to_Scatter_Broaden_exp'] = False\n",
    "\n",
    "\n",
    "#Constants for generating data--------------------------------------------------\n",
    "dm_range = (0,10)\n",
    "dm_range_spacing = 1\n",
    "NumPulses = 1\n",
    "startingPeriod = 0\n",
    "start_time = (startingPeriod / psr_dict['F0']) *1000  #Getting start time in ms\n",
    "TimeBinSize = (1.0/psr_dict['f_samp']) * 0.001\n",
    "start_bin = int((start_time)/TimeBinSize)\n",
    "stop_time = (((1 / psr_dict['F0']) *1000) * NumPulses) + start_time\n",
    "# start_time + however many pulses times the pulsar period in ms\n",
    "stop_bin =int((stop_time)/TimeBinSize)\n",
    "first_freq = psr_dict['f0']-(psr_dict['bw']/2)\n",
    "last_freq = psr_dict['f0']+(psr_dict['bw']/2)\n",
    "FullData = None"
   ]
  },
  {
   "cell_type": "code",
   "execution_count": 44,
   "metadata": {},
   "outputs": [],
   "source": [
    "psr = PSS.Simulation(psr =  None , sim_telescope= 'GBT',\n",
    "                             sim_ism= None, sim_scint= None,\n",
    "                             sim_dict = psr_dict)"
   ]
  },
  {
   "cell_type": "code",
   "execution_count": 106,
   "metadata": {},
   "outputs": [],
   "source": [
    "psr.init_signal()\n",
    "psr.init_pulsar()\n",
    "psr.init_ism()\n",
    "psr.init_telescope()\n",
    "psr.pulsar.gauss_template(peak=.5)"
   ]
  },
  {
   "cell_type": "code",
   "execution_count": 107,
   "metadata": {},
   "outputs": [
    {
     "name": "stdout",
     "output_type": "stream",
     "text": [
      "47% dispersed in 0.113 seconds."
     ]
    },
    {
     "name": "stderr",
     "output_type": "stream",
     "text": [
      "/home/kyle/anaconda3/lib/python3.5/site-packages/mkl_fft/_numpy_fft.py:1044: FutureWarning: Using a non-tuple sequence for multidimensional indexing is deprecated; use `arr[tuple(seq)]` instead of `arr[seq]`. In the future this will be interpreted as an array index, `arr[np.array(seq)]`, which will result either in an error or a different result.\n",
      "  output = mkl_fft.rfftn_numpy(a, s, axes)\n"
     ]
    },
    {
     "name": "stdout",
     "output_type": "stream",
     "text": [
      "100% dispersed in 0.220 seconds."
     ]
    }
   ],
   "source": [
    "psr.simulate()"
   ]
  },
  {
   "cell_type": "code",
   "execution_count": 108,
   "metadata": {},
   "outputs": [
    {
     "data": {
      "image/png": "[encoded data removed]",
      "text/plain": [
       "<Figure size 432x288 with 1 Axes>"
      ]
     },
     "metadata": {
      "needs_background": "light"
     },
     "output_type": "display_data"
    }
   ],
   "source": [
    "psr.signal.filter_bank()"
   ]
  },
  {
   "cell_type": "code",
   "execution_count": 109,
   "metadata": {},
   "outputs": [
    {
     "data": {
      "image/png": "[encoded data removed]",
      "text/plain": [
       "<Figure size 432x288 with 1 Axes>"
      ]
     },
     "metadata": {
      "needs_background": "light"
     },
     "output_type": "display_data"
    }
   ],
   "source": [
    "psr.signal.pulse_plot()"
   ]
  },
  {
   "cell_type": "code",
   "execution_count": 110,
   "metadata": {
    "scrolled": true
   },
   "outputs": [
    {
     "data": {
      "image/png": "[encoded data removed]",
      "text/plain": [
       "<Figure size 432x288 with 1 Axes>"
      ]
     },
     "metadata": {
      "needs_background": "light"
     },
     "output_type": "display_data"
    },
    {
     "name": "stdout",
     "output_type": "stream",
     "text": [
      "1835\n"
     ]
    }
   ],
   "source": [
    "plt.plot(psr.pulsar.profile[0,:])\n",
    "plt.show()\n",
    "print(psr.pulsar.profile.shape[1])\n"
   ]
  },
  {
   "cell_type": "code",
   "execution_count": 111,
   "metadata": {},
   "outputs": [
    {
     "data": {
      "text/html": [
       "\n",
       "\n",
       "\n",
       "\n",
       "\n",
       "\n",
       "  <div class=\"bk-root\" id=\"05542104-37cb-4b86-9498-c5f6a9ff3ca0\"></div>\n"
      ]
     },
     "metadata": {},
     "output_type": "display_data"
    },
    {
     "data": {
      "application/javascript": [
       "(function(root) {\n",
       "  function embed_document(root) {\n",
       "    \n",
       "  var docs_json = {\"48d2b796-510e-4e3c-b771-cc98508c64d6\":{\"roots\":{\"references\":[{\"attributes\":{\"below\":[{\"id\":\"d72e68eb-73a4-46f0-9975-895c8f8562db\",\"type\":\"LinearAxis\"}],\"left\":[{\"id\":\"519bcf94-813f-4c62-9473-6f9035d772c1\",\"type\":\"LinearAxis\"}],\"plot_height\":400,\"plot_width\":400,\"renderers\":[{\"id\":\"d72e68eb-73a4-46f0-9975-895c8f8562db\",\"type\":\"LinearAxis\"},{\"id\":\"a09d6cb8-f655-4c52-a08d-4e3cd32b732d\",\"type\":\"Grid\"},{\"id\":\"519bcf94-813f-4c62-9473-6f9035d772c1\",\"type\":\"LinearAxis\"},{\"id\":\"d4c7134f-a9e5-4d82-8bb2-951f22f63deb\",\"type\":\"Grid\"},{\"id\":\"083cd56e-1427-4470-9596-848fcdc9ac75\",\"type\":\"BoxAnnotation\"},{\"id\":\"945ebbfa-a3f3-4c80-88e6-1b8ad1574a89\",\"type\":\"GlyphRenderer\"}],\"title\":{\"id\":\"c114db37-2e99-42a7-9ecb-8364a1e1abf9\",\"type\":\"Title\"},\"toolbar\":{\"id\":\"30f51d81-dd4d-4dae-ae3e-20e53c46fc39\",\"type\":\"Toolbar\"},\"x_range\":{\"id\":\"8ab21853-982d-4df9-b683-cf67d3e44fdd\",\"type\":\"DataRange1d\"},\"x_scale\":{\"id\":\"3927ebd5-a76a-4332-972d-7cd61e27775e\",\"type\":\"LinearScale\"},\"y_range\":{\"id\":\"2c2326ee-ef0d-4004-a7d8-93fdcd992711\",\"type\":\"DataRange1d\"},\"y_scale\":{\"id\":\"afd7b651-f414-4ede-9d45-cb845351feb5\",\"type\":\"LinearScale\"}},\"id\":\"b8edb70c-75c2-435f-9457-862af380d918\",\"subtype\":\"Figure\",\"type\":\"Plot\"},{\"attributes\":{\"plot\":{\"id\":\"b8edb70c-75c2-435f-9457-862af380d918\",\"subtype\":\"Figure\",\"type\":\"Plot\"},\"ticker\":{\"id\":\"b6d9cfcf-c163-4ced-95a9-ad2e7d10f1d4\",\"type\":\"BasicTicker\"}},\"id\":\"a09d6cb8-f655-4c52-a08d-4e3cd32b732d\",\"type\":\"Grid\"},{\"attributes\":{\"plot\":null,\"text\":\"\"},\"id\":\"c114db37-2e99-42a7-9ecb-8364a1e1abf9\",\"type\":\"Title\"},{\"attributes\":{\"line_color\":\"#1f77b4\",\"x\":{\"field\":\"x\"},\"y\":{\"field\":\"y\"}},\"id\":\"ffbe853a-8b74-4961-b418-b78d64c4fc5e\",\"type\":\"Line\"},{\"attributes\":{},\"id\":\"9b61e9de-de82-4f50-84d7-9d104ce600cc\",\"type\":\"ResetTool\"},{\"attributes\":{},\"id\":\"3927ebd5-a76a-4332-972d-7cd61e27775e\",\"type\":\"LinearScale\"},{\"attributes\":{},\"id\":\"09a7854f-c8d4-4d23-be97-0505b1344639\",\"type\":\"BasicTickFormatter\"},{\"attributes\":{\"bottom_units\":\"screen\",\"fill_alpha\":{\"value\":0.5},\"fill_color\":{\"value\":\"lightgrey\"},\"left_units\":\"screen\",\"level\":\"overlay\",\"line_alpha\":{\"value\":1.0},\"line_color\":{\"value\":\"black\"},\"line_dash\":[4,4],\"line_width\":{\"value\":2},\"plot\":null,\"render_mode\":\"css\",\"right_units\":\"screen\",\"top_units\":\"screen\"},\"id\":\"083cd56e-1427-4470-9596-848fcdc9ac75\",\"type\":\"BoxAnnotation\"},{\"attributes\":{\"callback\":null},\"id\":\"8ab21853-982d-4df9-b683-cf67d3e44fdd\",\"type\":\"DataRange1d\"},{\"attributes\":{\"source\":{\"id\":\"0e62bcb5-c22a-484c-ae31-d278f023511e\",\"type\":\"ColumnDataSource\"}},\"id\":\"1135ed60-565d-4de5-85d7-af2dab2a6642\",\"type\":\"CDSView\"},{\"attributes\":{\"formatter\":{\"id\":\"09a7854f-c8d4-4d23-be97-0505b1344639\",\"type\":\"BasicTickFormatter\"},\"plot\":{\"id\":\"b8edb70c-75c2-435f-9457-862af380d918\",\"subtype\":\"Figure\",\"type\":\"Plot\"},\"ticker\":{\"id\":\"b6d9cfcf-c163-4ced-95a9-ad2e7d10f1d4\",\"type\":\"BasicTicker\"}},\"id\":\"d72e68eb-73a4-46f0-9975-895c8f8562db\",\"type\":\"LinearAxis\"},{\"attributes\":{},\"id\":\"2c9fe55e-6874-4abe-bf6e-ba504bcae4a1\",\"type\":\"PanTool\"},{\"attributes\":{\"dimension\":1,\"plot\":{\"id\":\"b8edb70c-75c2-435f-9457-862af380d918\",\"subtype\":\"Figure\",\"type\":\"Plot\"},\"ticker\":{\"id\":\"3cc6a6a6-e2e1-4c02-bfc8-f681405c6a28\",\"type\":\"BasicTicker\"}},\"id\":\"d4c7134f-a9e5-4d82-8bb2-951f22f63deb\",\"type\":\"Grid\"},{\"attributes\":{},\"id\":\"8550c378-6669-4a7c-9988-72936f632d03\",\"type\":\"BasicTickFormatter\"},{\"attributes\":{},\"id\":\"b6d9cfcf-c163-4ced-95a9-ad2e7d10f1d4\",\"type\":\"BasicTicker\"},{\"attributes\":{\"callback\":null},\"id\":\"2c2326ee-ef0d-4004-a7d8-93fdcd992711\",\"type\":\"DataRange1d\"},{\"attributes\":{\"data_source\":{\"id\":\"0e62bcb5-c22a-484c-ae31-d278f023511e\",\"type\":\"ColumnDataSource\"},\"glyph\":{\"id\":\"ffbe853a-8b74-4961-b418-b78d64c4fc5e\",\"type\":\"Line\"},\"hover_glyph\":null,\"muted_glyph\":null,\"nonselection_glyph\":{\"id\":\"d3d9d748-1c9e-47ef-b1ba-ad8fd634ff07\",\"type\":\"Line\"},\"selection_glyph\":null,\"view\":{\"id\":\"1135ed60-565d-4de5-85d7-af2dab2a6642\",\"type\":\"CDSView\"}},\"id\":\"945ebbfa-a3f3-4c80-88e6-1b8ad1574a89\",\"type\":\"GlyphRenderer\"},{\"attributes\":{},\"id\":\"5c52807e-ba23-4526-b2f8-b119cda5698f\",\"type\":\"SaveTool\"},{\"attributes\":{},\"id\":\"2916f7e3-b33a-4686-b406-c8c72e467179\",\"type\":\"WheelZoomTool\"},{\"attributes\":{\"line_alpha\":0.1,\"line_color\":\"#1f77b4\",\"x\":{\"field\":\"x\"},\"y\":{\"field\":\"y\"}},\"id\":\"d3d9d748-1c9e-47ef-b1ba-ad8fd634ff07\",\"type\":\"Line\"},{\"attributes\":{\"callback\":null,\"data\":{\"x\":{\"__ndarray__\":\"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\",\"dtype\":\"float64\",\"shape\":[1835]},\"y\":{\"__ndarray__\":\"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\",\"dtype\":\"float64\",\"shape\":[1835]}},\"selected\":{\"id\":\"c85d0f24-95c8-4541-a00d-e44021997e54\",\"type\":\"Selection\"},\"selection_policy\":{\"id\":\"b8373756-fe3e-4fd6-a6ce-33a6f1445871\",\"type\":\"UnionRenderers\"}},\"id\":\"0e62bcb5-c22a-484c-ae31-d278f023511e\",\"type\":\"ColumnDataSource\"},{\"attributes\":{},\"id\":\"3cc6a6a6-e2e1-4c02-bfc8-f681405c6a28\",\"type\":\"BasicTicker\"},{\"attributes\":{},\"id\":\"b8373756-fe3e-4fd6-a6ce-33a6f1445871\",\"type\":\"UnionRenderers\"},{\"attributes\":{},\"id\":\"c85d0f24-95c8-4541-a00d-e44021997e54\",\"type\":\"Selection\"},{\"attributes\":{\"formatter\":{\"id\":\"8550c378-6669-4a7c-9988-72936f632d03\",\"type\":\"BasicTickFormatter\"},\"plot\":{\"id\":\"b8edb70c-75c2-435f-9457-862af380d918\",\"subtype\":\"Figure\",\"type\":\"Plot\"},\"ticker\":{\"id\":\"3cc6a6a6-e2e1-4c02-bfc8-f681405c6a28\",\"type\":\"BasicTicker\"}},\"id\":\"519bcf94-813f-4c62-9473-6f9035d772c1\",\"type\":\"LinearAxis\"},{\"attributes\":{\"active_drag\":\"auto\",\"active_inspect\":\"auto\",\"active_multi\":null,\"active_scroll\":\"auto\",\"active_tap\":\"auto\",\"tools\":[{\"id\":\"2c9fe55e-6874-4abe-bf6e-ba504bcae4a1\",\"type\":\"PanTool\"},{\"id\":\"2916f7e3-b33a-4686-b406-c8c72e467179\",\"type\":\"WheelZoomTool\"},{\"id\":\"d936f067-4dc1-4856-83bd-2f21b72c84da\",\"type\":\"BoxZoomTool\"},{\"id\":\"5c52807e-ba23-4526-b2f8-b119cda5698f\",\"type\":\"SaveTool\"},{\"id\":\"9b61e9de-de82-4f50-84d7-9d104ce600cc\",\"type\":\"ResetTool\"},{\"id\":\"449fac8a-1bdf-40e4-b7a8-012fc44714b5\",\"type\":\"HelpTool\"}]},\"id\":\"30f51d81-dd4d-4dae-ae3e-20e53c46fc39\",\"type\":\"Toolbar\"},{\"attributes\":{},\"id\":\"449fac8a-1bdf-40e4-b7a8-012fc44714b5\",\"type\":\"HelpTool\"},{\"attributes\":{},\"id\":\"afd7b651-f414-4ede-9d45-cb845351feb5\",\"type\":\"LinearScale\"},{\"attributes\":{\"overlay\":{\"id\":\"083cd56e-1427-4470-9596-848fcdc9ac75\",\"type\":\"BoxAnnotation\"}},\"id\":\"d936f067-4dc1-4856-83bd-2f21b72c84da\",\"type\":\"BoxZoomTool\"}],\"root_ids\":[\"b8edb70c-75c2-435f-9457-862af380d918\"]},\"title\":\"Bokeh Application\",\"version\":\"0.13.0\"}};\n",
       "  var render_items = [{\"docid\":\"48d2b796-510e-4e3c-b771-cc98508c64d6\",\"roots\":{\"b8edb70c-75c2-435f-9457-862af380d918\":\"05542104-37cb-4b86-9498-c5f6a9ff3ca0\"}}];\n",
       "  root.Bokeh.embed.embed_items_notebook(docs_json, render_items);\n",
       "\n",
       "  }\n",
       "  if (root.Bokeh !== undefined) {\n",
       "    embed_document(root);\n",
       "  } else {\n",
       "    var attempts = 0;\n",
       "    var timer = setInterval(function(root) {\n",
       "      if (root.Bokeh !== undefined) {\n",
       "        embed_document(root);\n",
       "        clearInterval(timer);\n",
       "      }\n",
       "      attempts++;\n",
       "      if (attempts > 100) {\n",
       "        console.log(\"Bokeh: ERROR: Unable to run BokehJS code because BokehJS library is missing\")\n",
       "        clearInterval(timer);\n",
       "      }\n",
       "    }, 10, root)\n",
       "  }\n",
       "})(window);"
      ],
      "application/vnd.bokehjs_exec.v0+json": ""
     },
     "metadata": {
      "application/vnd.bokehjs_exec.v0+json": {
       "id": "b8edb70c-75c2-435f-9457-862af380d918"
      }
     },
     "output_type": "display_data"
    }
   ],
   "source": [
    "fig = figure(plot_width = 400, plot_height = 400)\n",
    "fig.line(x = np.linspace(0,1,psr.pulsar.profile.shape[1]), y = psr.pulsar.profile[0,:])\n",
    "show(fig)"
   ]
  },
  {
   "cell_type": "code",
   "execution_count": 51,
   "metadata": {},
   "outputs": [
    {
     "name": "stdout",
     "output_type": "stream",
     "text": [
      "19\n"
     ]
    }
   ],
   "source": [
    "x = 1957.5\n",
    "print(int((x-342.5)/85))"
   ]
  },
  {
   "cell_type": "code",
   "execution_count": 112,
   "metadata": {},
   "outputs": [
    {
     "data": {
      "text/html": [
       "\n",
       "\n",
       "\n",
       "\n",
       "\n",
       "\n",
       "  <div class=\"bk-root\" id=\"7eb75cf6-70d9-45bd-9c79-ee9aea2d1b4f\"></div>\n"
      ]
     },
     "metadata": {},
     "output_type": "display_data"
    },
    {
     "data": {
      "application/javascript": [
       "(function(root) {\n",
       "  function embed_document(root) {\n",
       "    \n",
       "  var docs_json = {\"540f9755-fd28-4317-959a-69269ce1e6d1\":{\"roots\":{\"references\":[{\"attributes\":{\"callback\":null},\"id\":\"f6527d6b-f924-4db0-99fe-666f84615b07\",\"type\":\"Range1d\"},{\"attributes\":{\"active_drag\":\"auto\",\"active_inspect\":\"auto\",\"active_multi\":null,\"active_scroll\":\"auto\",\"active_tap\":\"auto\",\"tools\":[{\"id\":\"ae94800b-6f3e-4941-a51e-f3115a7e7234\",\"type\":\"PanTool\"},{\"id\":\"bc6572dc-9961-40ea-b94a-693496ba7c29\",\"type\":\"WheelZoomTool\"},{\"id\":\"4d45d883-2f6c-4fb1-88aa-b11a73ff436f\",\"type\":\"BoxZoomTool\"},{\"id\":\"dd9f3805-a001-404f-8b4f-4690678d97ef\",\"type\":\"SaveTool\"},{\"id\":\"81ab4c4e-4905-478d-854e-09d03f59edb3\",\"type\":\"ResetTool\"},{\"id\":\"6b1a6774-bd60-4688-a149-774b6c318c16\",\"type\":\"HelpTool\"}]},\"id\":\"bf197bfd-a54c-4993-997f-5783df38b298\",\"type\":\"Toolbar\"},{\"attributes\":{},\"id\":\"ae94800b-6f3e-4941-a51e-f3115a7e7234\",\"type\":\"PanTool\"},{\"attributes\":{\"line_color\":\"#1f77b4\",\"x\":{\"field\":\"x\"},\"y\":{\"field\":\"y\"}},\"id\":\"a27a894f-aeeb-4ccc-a23d-5e5bc6bb668d\",\"type\":\"Line\"},{\"attributes\":{\"callback\":null,\"data\":{\"x\":{\"__ndarray__\":\"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\",\"dtype\":\"float64\",\"shape\":[1835]},\"y\":{\"__ndarray__\":\"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\",\"dtype\":\"float64\",\"shape\":[1835]}},\"selected\":{\"id\":\"11ebc61d-63cd-4991-a47c-f41605d80dbf\",\"type\":\"Selection\"},\"selection_policy\":{\"id\":\"3971da36-a45b-4849-bf60-4250873e58ba\",\"type\":\"UnionRenderers\"}},\"id\":\"505bbe74-1352-447f-9dfc-5b99a8a20913\",\"type\":\"ColumnDataSource\"},{\"attributes\":{\"source\":{\"id\":\"505bbe74-1352-447f-9dfc-5b99a8a20913\",\"type\":\"ColumnDataSource\"}},\"id\":\"7325ea0a-60a4-42cf-8877-d51948bf11c1\",\"type\":\"CDSView\"},{\"attributes\":{},\"id\":\"6b1a6774-bd60-4688-a149-774b6c318c16\",\"type\":\"HelpTool\"},{\"attributes\":{\"data_source\":{\"id\":\"505bbe74-1352-447f-9dfc-5b99a8a20913\",\"type\":\"ColumnDataSource\"},\"glyph\":{\"id\":\"a27a894f-aeeb-4ccc-a23d-5e5bc6bb668d\",\"type\":\"Line\"},\"hover_glyph\":null,\"muted_glyph\":null,\"nonselection_glyph\":{\"id\":\"7051ee08-0039-42ec-868c-849d70b3b9e3\",\"type\":\"Line\"},\"selection_glyph\":null,\"view\":{\"id\":\"7325ea0a-60a4-42cf-8877-d51948bf11c1\",\"type\":\"CDSView\"}},\"id\":\"4b3828e6-09fb-47d2-8575-a8597a00f38a\",\"type\":\"GlyphRenderer\"},{\"attributes\":{},\"id\":\"3971da36-a45b-4849-bf60-4250873e58ba\",\"type\":\"UnionRenderers\"},{\"attributes\":{\"callback\":null},\"id\":\"f25e7c9d-add2-458e-913f-0d0cdc6ff885\",\"type\":\"DataRange1d\"},{\"attributes\":{},\"id\":\"11ebc61d-63cd-4991-a47c-f41605d80dbf\",\"type\":\"Selection\"},{\"attributes\":{},\"id\":\"81ab4c4e-4905-478d-854e-09d03f59edb3\",\"type\":\"ResetTool\"},{\"attributes\":{},\"id\":\"70d98125-62cd-4967-a4aa-909efbe3d204\",\"type\":\"BasicTickFormatter\"},{\"attributes\":{},\"id\":\"bc6572dc-9961-40ea-b94a-693496ba7c29\",\"type\":\"WheelZoomTool\"},{\"attributes\":{\"axis_label\":\"Pulse Intensity\",\"formatter\":{\"id\":\"70d98125-62cd-4967-a4aa-909efbe3d204\",\"type\":\"BasicTickFormatter\"},\"plot\":{\"id\":\"1888b463-3017-40d8-83f7-ac7465f2c3dd\",\"subtype\":\"Figure\",\"type\":\"Plot\"},\"ticker\":{\"id\":\"4e4101e3-26e7-4107-a97d-9a6f3be54bb7\",\"type\":\"BasicTicker\"}},\"id\":\"dd8f3917-e10a-4338-a24a-81ca45b4a5b4\",\"type\":\"LinearAxis\"},{\"attributes\":{},\"id\":\"8e2927b3-a28f-44c5-b5aa-41b58dd70dad\",\"type\":\"BasicTickFormatter\"},{\"attributes\":{},\"id\":\"847dadf1-96c0-4fb4-b0bd-8b6d4e166287\",\"type\":\"LinearScale\"},{\"attributes\":{\"plot\":null,\"text\":\"\"},\"id\":\"704c9116-5e15-498f-9e57-8fa0c3b0ff98\",\"type\":\"Title\"},{\"attributes\":{\"overlay\":{\"id\":\"04779a85-ea1e-483e-bfa3-b0f8f72995cd\",\"type\":\"BoxAnnotation\"}},\"id\":\"4d45d883-2f6c-4fb1-88aa-b11a73ff436f\",\"type\":\"BoxZoomTool\"},{\"attributes\":{\"line_alpha\":0.1,\"line_color\":\"#1f77b4\",\"x\":{\"field\":\"x\"},\"y\":{\"field\":\"y\"}},\"id\":\"7051ee08-0039-42ec-868c-849d70b3b9e3\",\"type\":\"Line\"},{\"attributes\":{},\"id\":\"dd9f3805-a001-404f-8b4f-4690678d97ef\",\"type\":\"SaveTool\"},{\"attributes\":{},\"id\":\"62e4657f-05d8-470a-b40a-a4eba126937e\",\"type\":\"LinearScale\"},{\"attributes\":{},\"id\":\"4e4101e3-26e7-4107-a97d-9a6f3be54bb7\",\"type\":\"BasicTicker\"},{\"attributes\":{\"below\":[{\"id\":\"f27daa5f-7cf4-4e02-b406-d967538f5aad\",\"type\":\"LinearAxis\"}],\"left\":[{\"id\":\"dd8f3917-e10a-4338-a24a-81ca45b4a5b4\",\"type\":\"LinearAxis\"}],\"plot_height\":400,\"plot_width\":400,\"renderers\":[{\"id\":\"f27daa5f-7cf4-4e02-b406-d967538f5aad\",\"type\":\"LinearAxis\"},{\"id\":\"5238388f-200b-4433-bd0a-03d726a15924\",\"type\":\"Grid\"},{\"id\":\"dd8f3917-e10a-4338-a24a-81ca45b4a5b4\",\"type\":\"LinearAxis\"},{\"id\":\"de8743c1-a447-492b-8061-393a0080cd73\",\"type\":\"Grid\"},{\"id\":\"04779a85-ea1e-483e-bfa3-b0f8f72995cd\",\"type\":\"BoxAnnotation\"},{\"id\":\"4b3828e6-09fb-47d2-8575-a8597a00f38a\",\"type\":\"GlyphRenderer\"}],\"title\":{\"id\":\"704c9116-5e15-498f-9e57-8fa0c3b0ff98\",\"type\":\"Title\"},\"toolbar\":{\"id\":\"bf197bfd-a54c-4993-997f-5783df38b298\",\"type\":\"Toolbar\"},\"x_range\":{\"id\":\"f25e7c9d-add2-458e-913f-0d0cdc6ff885\",\"type\":\"DataRange1d\"},\"x_scale\":{\"id\":\"62e4657f-05d8-470a-b40a-a4eba126937e\",\"type\":\"LinearScale\"},\"y_range\":{\"id\":\"f6527d6b-f924-4db0-99fe-666f84615b07\",\"type\":\"Range1d\"},\"y_scale\":{\"id\":\"847dadf1-96c0-4fb4-b0bd-8b6d4e166287\",\"type\":\"LinearScale\"}},\"id\":\"1888b463-3017-40d8-83f7-ac7465f2c3dd\",\"subtype\":\"Figure\",\"type\":\"Plot\"},{\"attributes\":{},\"id\":\"e1e4a19a-0284-4348-931f-de376c6fbc80\",\"type\":\"BasicTicker\"},{\"attributes\":{\"plot\":{\"id\":\"1888b463-3017-40d8-83f7-ac7465f2c3dd\",\"subtype\":\"Figure\",\"type\":\"Plot\"},\"ticker\":{\"id\":\"e1e4a19a-0284-4348-931f-de376c6fbc80\",\"type\":\"BasicTicker\"}},\"id\":\"5238388f-200b-4433-bd0a-03d726a15924\",\"type\":\"Grid\"},{\"attributes\":{\"bottom_units\":\"screen\",\"fill_alpha\":{\"value\":0.5},\"fill_color\":{\"value\":\"lightgrey\"},\"left_units\":\"screen\",\"level\":\"overlay\",\"line_alpha\":{\"value\":1.0},\"line_color\":{\"value\":\"black\"},\"line_dash\":[4,4],\"line_width\":{\"value\":2},\"plot\":null,\"render_mode\":\"css\",\"right_units\":\"screen\",\"top_units\":\"screen\"},\"id\":\"04779a85-ea1e-483e-bfa3-b0f8f72995cd\",\"type\":\"BoxAnnotation\"},{\"attributes\":{\"dimension\":1,\"plot\":{\"id\":\"1888b463-3017-40d8-83f7-ac7465f2c3dd\",\"subtype\":\"Figure\",\"type\":\"Plot\"},\"ticker\":{\"id\":\"4e4101e3-26e7-4107-a97d-9a6f3be54bb7\",\"type\":\"BasicTicker\"}},\"id\":\"de8743c1-a447-492b-8061-393a0080cd73\",\"type\":\"Grid\"},{\"attributes\":{\"axis_label\":\"Pulse Phase\",\"formatter\":{\"id\":\"8e2927b3-a28f-44c5-b5aa-41b58dd70dad\",\"type\":\"BasicTickFormatter\"},\"plot\":{\"id\":\"1888b463-3017-40d8-83f7-ac7465f2c3dd\",\"subtype\":\"Figure\",\"type\":\"Plot\"},\"ticker\":{\"id\":\"e1e4a19a-0284-4348-931f-de376c6fbc80\",\"type\":\"BasicTicker\"}},\"id\":\"f27daa5f-7cf4-4e02-b406-d967538f5aad\",\"type\":\"LinearAxis\"}],\"root_ids\":[\"1888b463-3017-40d8-83f7-ac7465f2c3dd\"]},\"title\":\"Bokeh Application\",\"version\":\"0.13.0\"}};\n",
       "  var render_items = [{\"docid\":\"540f9755-fd28-4317-959a-69269ce1e6d1\",\"roots\":{\"1888b463-3017-40d8-83f7-ac7465f2c3dd\":\"7eb75cf6-70d9-45bd-9c79-ee9aea2d1b4f\"}}];\n",
       "  root.Bokeh.embed.embed_items_notebook(docs_json, render_items);\n",
       "\n",
       "  }\n",
       "  if (root.Bokeh !== undefined) {\n",
       "    embed_document(root);\n",
       "  } else {\n",
       "    var attempts = 0;\n",
       "    var timer = setInterval(function(root) {\n",
       "      if (root.Bokeh !== undefined) {\n",
       "        embed_document(root);\n",
       "        clearInterval(timer);\n",
       "      }\n",
       "      attempts++;\n",
       "      if (attempts > 100) {\n",
       "        console.log(\"Bokeh: ERROR: Unable to run BokehJS code because BokehJS library is missing\")\n",
       "        clearInterval(timer);\n",
       "      }\n",
       "    }, 10, root)\n",
       "  }\n",
       "})(window);"
      ],
      "application/vnd.bokehjs_exec.v0+json": ""
     },
     "metadata": {
      "application/vnd.bokehjs_exec.v0+json": {
       "id": "1888b463-3017-40d8-83f7-ac7465f2c3dd"
      }
     },
     "output_type": "display_data"
    }
   ],
   "source": [
    "src1 = ColumnDataSource(dict(x = np.linspace(0,1,psr.pulsar.profile.shape[1]), \n",
    "                             y = psr.pulsar.profile[0,:] ) )\n",
    "\n",
    "fig1 = figure(plot_width = 400, plot_height = 400, \n",
    "              #x_range = Range1d(start_time,stop_time), \n",
    "              y_range = Range1d(0,1),\n",
    "              x_axis_label = 'Pulse Phase',\n",
    "              y_axis_label = 'Pulse Intensity',)\n",
    "\n",
    "fig1.line(source = src1, x='x', y='y',)\n",
    "\n",
    "show(fig1)"
   ]
  },
  {
   "cell_type": "code",
   "execution_count": 113,
   "metadata": {},
   "outputs": [
    {
     "data": {
      "image/png": "[encoded data removed]",
      "text/plain": [
       "<Figure size 432x288 with 1 Axes>"
      ]
     },
     "metadata": {
      "needs_background": "light"
     },
     "output_type": "display_data"
    }
   ],
   "source": [
    "plt.plot(psr.pulsar.profile[-1,:])\n",
    "plt.show()"
   ]
  },
  {
   "cell_type": "code",
   "execution_count": 114,
   "metadata": {},
   "outputs": [
    {
     "ename": "AttributeError",
     "evalue": "'Simulation' object has no attribute 'obs_signal'",
     "output_type": "error",
     "traceback": [
      "\u001b[0;31m---------------------------------------------------------------------------\u001b[0m",
      "\u001b[0;31mAttributeError\u001b[0m                            Traceback (most recent call last)",
      "\u001b[0;32m<ipython-input-114-26ce0b324465>\u001b[0m in \u001b[0;36m<module>\u001b[0;34m()\u001b[0m\n\u001b[0;32m----> 1\u001b[0;31m \u001b[0mpsr\u001b[0m\u001b[0;34m.\u001b[0m\u001b[0mobs_signal\u001b[0m\u001b[0;34m.\u001b[0m\u001b[0mshape\u001b[0m\u001b[0;34m\u001b[0m\u001b[0m\n\u001b[0m",
      "\u001b[0;31mAttributeError\u001b[0m: 'Simulation' object has no attribute 'obs_signal'"
     ]
    }
   ],
   "source": [
    "psr.obs_signal.shape"
   ]
  },
  {
   "cell_type": "code",
   "execution_count": 41,
   "metadata": {},
   "outputs": [],
   "source": [
    "import matplotlib.pyplot as plt\n",
    "% matplotlib inline"
   ]
  },
  {
   "cell_type": "code",
   "execution_count": 42,
   "metadata": {},
   "outputs": [
    {
     "name": "stdout",
     "output_type": "stream",
     "text": [
      "79% dispersed in 0.147 seconds."
     ]
    },
    {
     "name": "stderr",
     "output_type": "stream",
     "text": [
      "/home/kyle/anaconda3/lib/python3.5/site-packages/mkl_fft/_numpy_fft.py:1044: FutureWarning: Using a non-tuple sequence for multidimensional indexing is deprecated; use `arr[tuple(seq)]` instead of `arr[seq]`. In the future this will be interpreted as an array index, `arr[np.array(seq)]`, which will result either in an error or a different result.\n",
      "  output = mkl_fft.rfftn_numpy(a, s, axes)\n"
     ]
    },
    {
     "name": "stdout",
     "output_type": "stream",
     "text": [
      "100% dispersed in 0.179 seconds."
     ]
    }
   ],
   "source": [
    "psr.pulsar.gauss_template(peak=.5)\n",
    "psr.simulate()"
   ]
  },
  {
   "cell_type": "code",
   "execution_count": 43,
   "metadata": {},
   "outputs": [
    {
     "ename": "AttributeError",
     "evalue": "'Simulation' object has no attribute 'obs_signal'",
     "output_type": "error",
     "traceback": [
      "\u001b[0;31m---------------------------------------------------------------------------\u001b[0m",
      "\u001b[0;31mAttributeError\u001b[0m                            Traceback (most recent call last)",
      "\u001b[0;32m<ipython-input-43-eaa4173ad80b>\u001b[0m in \u001b[0;36m<module>\u001b[0;34m()\u001b[0m\n\u001b[0;32m----> 1\u001b[0;31m \u001b[0mplt\u001b[0m\u001b[0;34m.\u001b[0m\u001b[0mimshow\u001b[0m\u001b[0;34m(\u001b[0m\u001b[0mpsr\u001b[0m\u001b[0;34m.\u001b[0m\u001b[0mobs_signal\u001b[0m\u001b[0;34m,\u001b[0m\u001b[0morigin\u001b[0m\u001b[0;34m=\u001b[0m\u001b[0;34m'left'\u001b[0m\u001b[0;34m,\u001b[0m\u001b[0maspect\u001b[0m\u001b[0;34m=\u001b[0m\u001b[0;34m'auto'\u001b[0m\u001b[0;34m)\u001b[0m\u001b[0;34m\u001b[0m\u001b[0m\n\u001b[0m\u001b[1;32m      2\u001b[0m \u001b[0mplt\u001b[0m\u001b[0;34m.\u001b[0m\u001b[0mshow\u001b[0m\u001b[0;34m(\u001b[0m\u001b[0;34m)\u001b[0m\u001b[0;34m\u001b[0m\u001b[0m\n",
      "\u001b[0;31mAttributeError\u001b[0m: 'Simulation' object has no attribute 'obs_signal'"
     ]
    }
   ],
   "source": [
    "plt.imshow(psr.obs_signal,origin='left',aspect='auto')\n",
    "plt.show()"
   ]
  },
  {
   "cell_type": "code",
   "execution_count": null,
   "metadata": {},
   "outputs": [],
   "source": [
    "allData = psr.obs_signal\n",
    "sumData = np.sum(allData,axis=0)\n",
    "print(sumData.shape)"
   ]
  },
  {
   "cell_type": "code",
   "execution_count": null,
   "metadata": {},
   "outputs": [],
   "source": [
    "temp2 = sumData\n",
    "length = stop_bin - start_bin\n",
    "height = int(temp2.shape[0]/length)+1\n",
    "temp2 = np.resize(temp2,length*height)\n",
    "temp2 = np.reshape(temp2,(length,height))\n",
    "print(temp2.shape)"
   ]
  },
  {
   "cell_type": "code",
   "execution_count": null,
   "metadata": {},
   "outputs": [],
   "source": [
    "phase= np.linspace(0,1,temp2.shape[0])\n",
    "plt.figure(figsize=[10,6])\n",
    "plt.plot(phase,np.sum(temp2[:,:],axis=1),lw=0.3)\n",
    "plt.show()"
   ]
  },
  {
   "cell_type": "code",
   "execution_count": 105,
   "metadata": {},
   "outputs": [
    {
     "ename": "AttributeError",
     "evalue": "'Simulation' object has no attribute 'obs_signal'",
     "output_type": "error",
     "traceback": [
      "\u001b[0;31m---------------------------------------------------------------------------\u001b[0m",
      "\u001b[0;31mAttributeError\u001b[0m                            Traceback (most recent call last)",
      "\u001b[0;32m<ipython-input-105-e2623bdfa5a6>\u001b[0m in \u001b[0;36m<module>\u001b[0;34m()\u001b[0m\n\u001b[0;32m----> 1\u001b[0;31m \u001b[0msig\u001b[0m\u001b[0;34m=\u001b[0m\u001b[0mpsr\u001b[0m\u001b[0;34m.\u001b[0m\u001b[0mobs_signal\u001b[0m\u001b[0;34m+\u001b[0m\u001b[0;36m0.07\u001b[0m\u001b[0;34m*\u001b[0m\u001b[0mpsr\u001b[0m\u001b[0;34m.\u001b[0m\u001b[0msignal\u001b[0m\u001b[0;34m.\u001b[0m\u001b[0msignal\u001b[0m\u001b[0;34m[\u001b[0m\u001b[0;34m:\u001b[0m\u001b[0;34m]\u001b[0m\u001b[0;34m\u001b[0m\u001b[0m\n\u001b[0m",
      "\u001b[0;31mAttributeError\u001b[0m: 'Simulation' object has no attribute 'obs_signal'"
     ]
    }
   ],
   "source": [
    "sig=psr.obs_signal +0.07*psr.signal.signal[:]"
   ]
  },
  {
   "cell_type": "code",
   "execution_count": null,
   "metadata": {},
   "outputs": [],
   "source": [
    "plt.imshow(sig,origin='left',aspect='auto')\n",
    "plt.show()"
   ]
  },
  {
   "cell_type": "code",
   "execution_count": null,
   "metadata": {},
   "outputs": [],
   "source": [
    "n=100\n",
    "phase= np.linspace(0,1,sig.shape[1])\n",
    "plt.figure(figsize=[10,6])\n",
    "plt.plot(phase,np.sum(sig[:n,:],axis=0),lw=0.3)\n",
    "plt.show()"
   ]
  },
  {
   "cell_type": "code",
   "execution_count": null,
   "metadata": {},
   "outputs": [],
   "source": [
    "temp = sig[:,start_bin:stop_bin]\n",
    "print(temp.shape)\n",
    "phase= np.linspace(0,1,temp.shape[1])\n",
    "plt.figure(figsize=[10,6])\n",
    "plt.plot(phase,np.sum(temp,axis=0),lw=0.3)\n",
    "plt.show()"
   ]
  },
  {
   "cell_type": "code",
   "execution_count": null,
   "metadata": {},
   "outputs": [],
   "source": [
    "foldingFreq = 218 #in MHz\n",
    "foldingPeriod = (1.0/foldingFreq)*1000\n",
    "foldingBin = int(foldingPeriod/TimeBinSize)\n",
    "toShow = np.copy(np.swapaxes(sig[:,start_bin:stop_bin],0,1))\n",
    "totalNum = toShow.shape[0] * toShow.shape[1]\n",
    "height = int(totalNum / foldingBin) + 1\n",
    "toShow.resize(foldingBin,height)\n",
    "toShow = np.sum(toShow,axis=1)\n",
    "phase= np.linspace(0,1,toShow.shape[0])\n",
    "plt.figure(figsize=[10,6])\n",
    "plt.plot(phase,toShow,lw=0.3)\n",
    "plt.show()"
   ]
  },
  {
   "cell_type": "code",
   "execution_count": null,
   "metadata": {},
   "outputs": [],
   "source": [
    "temp5 = np.copy(temp)\n",
    "print(np.size(temp5))"
   ]
  },
  {
   "cell_type": "code",
   "execution_count": null,
   "metadata": {},
   "outputs": [],
   "source": [
    "foldingFreq = 234 #in MHz (period of the pulsar will show a pulse)\n",
    "foldingPeriod = (1.0/foldingFreq)*1000 #Given a frequency, what is the period\n",
    "foldingBin = int(foldingPeriod/TimeBinSize) #length of that period in terms of time bins\n",
    "toShow = np.copy(np.swapaxes(sig[:,start_bin:stop_bin],0,1)) #Deep copy of the data with swapped axis\n",
    "#Need to swap axis so that resize will work on the correct axis\n",
    "totalNum = toShow.shape[0] * toShow.shape[1] #Total Datapoints\n",
    "height = int(totalNum / foldingBin) + 1 #Given the folding frequency, this would be how many times we fold\n",
    "toShow.resize(foldingBin,height) #Resizing to the given specs\n",
    "toShow = np.sum(toShow,axis=1) #summing the data points along the folded axis"
   ]
  },
  {
   "cell_type": "code",
   "execution_count": null,
   "metadata": {},
   "outputs": [],
   "source": [
    "PreFoldingData = np.copy(np.swapaxes(sig[:,start_bin:stop_bin],0,1))\n",
    "PostFoldingData = None\n",
    "foldingPeriod = (1.0/foldingFreq)*1000 #Given a frequency, what is the period\n",
    "foldingBin = int(foldingPeriod/TimeBinSize) #length of period in terms of time binss\n",
    "totalNum = PreFoldingData.size #Total Datapoints\n",
    "height = int(totalNum / foldingBin) + 1 #Given the folding frequency, this would be how many times we fold\n",
    "PostFoldingData= np.resize(PreFoldingData,(foldingBin,height)) #Resizing to the given specs\n",
    "PostFoldingData= np.sum(PostFoldingData,axis=1) #summing the data points along the folded axis"
   ]
  },
  {
   "cell_type": "code",
   "execution_count": null,
   "metadata": {},
   "outputs": [],
   "source": [
    "src2 = ColumnDataSource(data = dict(x = np.linspace(0,1,PostFoldingData.shape[0]), \n",
    "                             y = PostFoldingData ) )\n",
    "\n",
    "fig2 = figure(plot_width = 400, plot_height = 400, \n",
    "              #x_range = Range1d(start_time,stop_time), \n",
    "              y_range = Range1d(0,25),\n",
    "              x_axis_label = 'Phase',\n",
    "              y_axis_label = 'Pulse Intensity',)\n",
    "\n",
    "fig2.line(source = src2, x='x', y='y',)\n",
    "\n",
    "show(fig2)"
   ]
  },
  {
   "cell_type": "code",
   "execution_count": 115,
   "metadata": {},
   "outputs": [
    {
     "ename": "AttributeError",
     "evalue": "'Simulation' object has no attribute 'obs_signal'",
     "output_type": "error",
     "traceback": [
      "\u001b[0;31m---------------------------------------------------------------------------\u001b[0m",
      "\u001b[0;31mAttributeError\u001b[0m                            Traceback (most recent call last)",
      "\u001b[0;32m<ipython-input-115-b0af84ef88cf>\u001b[0m in \u001b[0;36m<module>\u001b[0;34m()\u001b[0m\n\u001b[0;32m----> 1\u001b[0;31m \u001b[0mplt\u001b[0m\u001b[0;34m.\u001b[0m\u001b[0mplot\u001b[0m\u001b[0;34m(\u001b[0m\u001b[0mpsr\u001b[0m\u001b[0;34m.\u001b[0m\u001b[0mobs_signal\u001b[0m\u001b[0;34m[\u001b[0m\u001b[0;36m10\u001b[0m\u001b[0;34m,\u001b[0m\u001b[0;34m:\u001b[0m\u001b[0;34m]\u001b[0m\u001b[0;34m)\u001b[0m\u001b[0;34m\u001b[0m\u001b[0m\n\u001b[0m\u001b[1;32m      2\u001b[0m \u001b[0mplt\u001b[0m\u001b[0;34m.\u001b[0m\u001b[0mshow\u001b[0m\u001b[0;34m(\u001b[0m\u001b[0;34m)\u001b[0m\u001b[0;34m\u001b[0m\u001b[0m\n",
      "\u001b[0;31mAttributeError\u001b[0m: 'Simulation' object has no attribute 'obs_signal'"
     ]
    }
   ],
   "source": [
    "plt.plot(psr.obs_signal[10,:])\n",
    "plt.show()"
   ]
  },
  {
   "cell_type": "code",
   "execution_count": 116,
   "metadata": {},
   "outputs": [],
   "source": [
    "sig1 = psr.signal.signal[:,start_bin:stop_bin]\n",
    "sig2 = np.swapaxes(sig1,0,1)\n",
    "#print(np.array_equal(sig1,sig2))\n",
    "pre = np.copy(sig2)\n"
   ]
  },
  {
   "cell_type": "code",
   "execution_count": 100,
   "metadata": {},
   "outputs": [
    {
     "name": "stdout",
     "output_type": "stream",
     "text": [
      "[[-5.6987167e-03  1.7180070e-03  4.1556829e-03 ... -2.6027139e-04\n",
      "  -7.0029826e-05 -4.7508067e-05]\n",
      " [ 4.5607663e-03 -2.5649206e-04 -2.4612814e-03 ...  2.7586520e-04\n",
      "   4.6930600e-05  6.9364141e-05]\n",
      " [-3.8982367e-03 -2.2951438e-04  2.2440967e-03 ... -2.6951873e-04\n",
      "  -3.5126952e-05 -7.2372510e-05]\n",
      " ...\n",
      " [ 5.5987467e-03 -7.4006449e-03  2.3720418e-03 ... -2.0214217e-04\n",
      "   4.8789334e-05 -2.2814304e-04]\n",
      " [-5.5989251e-03  7.3996498e-03 -2.3659195e-03 ...  2.0233635e-04\n",
      "  -4.8229227e-05  2.2854812e-04]\n",
      " [ 5.5995183e-03 -7.3980307e-03  2.3598208e-03 ... -2.0253750e-04\n",
      "   4.8589343e-05 -2.2860739e-04]]\n",
      "\n",
      "[[-5.6987167e-03  1.7180070e-03  4.1556829e-03 ... -2.6027139e-04\n",
      "  -7.0029826e-05 -4.7508067e-05]\n",
      " [ 4.5607663e-03 -2.5649206e-04 -2.4612814e-03 ...  2.7586520e-04\n",
      "   4.6930600e-05  6.9364141e-05]\n",
      " [-3.8982367e-03 -2.2951438e-04  2.2440967e-03 ... -2.6951873e-04\n",
      "  -3.5126952e-05 -7.2372510e-05]\n",
      " ...\n",
      " [ 5.5987467e-03 -7.4006449e-03  2.3720418e-03 ... -2.0214217e-04\n",
      "   4.8789334e-05 -2.2814304e-04]\n",
      " [-5.5989251e-03  7.3996498e-03 -2.3659195e-03 ...  2.0233635e-04\n",
      "  -4.8229227e-05  2.2854812e-04]\n",
      " [ 5.5995183e-03 -7.3980307e-03  2.3598208e-03 ... -2.0253750e-04\n",
      "   4.8589343e-05 -2.2860739e-04]]\n"
     ]
    }
   ],
   "source": [
    "print(sig2)\n",
    "print()\n",
    "print(pre)\n"
   ]
  },
  {
   "cell_type": "code",
   "execution_count": 117,
   "metadata": {},
   "outputs": [
    {
     "name": "stdout",
     "output_type": "stream",
     "text": [
      "(1834, 34)\n",
      "(1834, 34)\n",
      "[[ 9.3829306e-03  6.9168764e-03  6.4197811e-03 ...  4.7164729e-05\n",
      "   2.9128316e-04  8.7212298e-05]\n",
      " [-9.5413653e-03 -6.5029166e-03 -5.3562238e-03 ...  7.0769856e-05\n",
      "  -8.5379499e-05 -1.0025959e-04]\n",
      " [ 9.6085006e-03  6.2730280e-03  5.1743537e-03 ... -9.6802098e-05\n",
      "   2.9584913e-05  1.0286909e-04]\n",
      " ...\n",
      " [ 7.2192331e-03  2.7673971e-03 -4.1556219e-04 ... -1.6954816e-04\n",
      "   5.4512046e-05  3.9222368e-04]\n",
      " [-7.2084302e-03 -2.7680127e-03  4.1898448e-04 ...  1.7002897e-04\n",
      "  -5.4530305e-05 -3.9213136e-04]\n",
      " [ 7.1975677e-03  2.7690439e-03 -4.2307281e-04 ... -1.7012721e-04\n",
      "   5.4622415e-05  3.9212347e-04]]\n",
      "(1834, 34)\n",
      "(917, 69)\n",
      "(917,)\n",
      "[ 2.48894859e-02  8.00795853e-03  5.48483059e-03  7.38148083e-05\n",
      "  2.71056476e-03 -1.21827400e-03 -1.55520812e-03  1.68673752e-03\n",
      "  4.01737343e-04  9.60099132e-05 -8.33499536e-04  2.22796516e-04\n",
      " -1.21249926e-04 -1.06912665e-03  7.26160069e-05  2.21922419e-05\n",
      "  1.06274756e-03 -2.05000528e-04 -4.01998317e-04 -4.34214133e-04\n",
      " -1.36001065e-04 -4.55248752e-04  7.60691328e-05  9.74690192e-05\n",
      " -2.18154397e-04 -3.48744856e-04  1.15014525e-04 -3.81455553e-04\n",
      " -1.12246984e-04  2.56809544e-05 -1.38064206e-06 -9.40850296e-05\n",
      " -5.27967568e-05  8.46720795e-05 -9.99001414e-03 -4.85425116e-03\n",
      " -4.17651841e-03  7.38664603e-05 -2.31281109e-03  1.17441569e-03\n",
      "  2.00682902e-03 -2.07052147e-03 -3.05880036e-04  5.21704933e-05\n",
      "  9.08752554e-04 -3.23619606e-04  7.79360198e-05  1.19591935e-03\n",
      " -9.85555671e-05 -8.99546358e-05 -1.16783311e-03  1.78989430e-04\n",
      "  4.97641333e-04  4.45539801e-04  1.45750717e-04  4.41485085e-04\n",
      " -9.71944755e-05 -1.38804840e-04  2.24356190e-04  3.67849309e-04\n",
      " -1.58760566e-04  3.81668797e-04  1.05955849e-04 -2.25872918e-05\n",
      "  1.19153683e-05  6.93493930e-05  4.50400657e-05 -1.02178317e-04\n",
      "  1.06433555e-02  4.74997610e-03  4.23553819e-03  3.87084510e-05\n",
      "  2.49746628e-03 -1.21770636e-03 -2.24914402e-03  2.18617544e-03\n",
      "  2.94872094e-04 -9.53826675e-05 -9.46032000e-04  3.40323488e-04\n",
      " -1.12771871e-04 -1.33884349e-03  1.34116985e-04  1.21381410e-04\n",
      "  1.24854327e-03 -1.71118081e-04 -5.95303252e-04 -4.90711653e-04\n",
      " -1.44185251e-04 -4.56676324e-04  9.38973681e-05  1.67420294e-04\n",
      " -2.42782873e-04 -4.17130330e-04  1.83150492e-04 -4.02450329e-04\n",
      " -9.52952323e-05  2.11415099e-05 -2.12370524e-05 -6.61677695e-05\n",
      " -5.68224714e-05  1.12765636e-04 -1.14805661e-02 -4.76534478e-03\n",
      " -4.40971088e-03 -1.70340863e-04 -2.74638273e-03  1.30206556e-03\n",
      "  2.52149045e-03 -2.30465992e-03 -2.88693089e-04  1.15568691e-04\n",
      "  9.69848887e-04 -3.75661650e-04  1.47410770e-04  1.49438973e-03\n",
      " -1.77004680e-04 -1.49754356e-04 -1.35446596e-03  1.67725215e-04\n",
      "  7.07088504e-04  5.48920885e-04  1.20631274e-04  4.73611930e-04\n",
      " -1.14459886e-04 -2.12843006e-04  2.62206857e-04  4.50347987e-04\n",
      " -2.08761514e-04  4.33877576e-04  8.83949542e-05 -1.48806976e-05\n",
      "  3.62106948e-05  5.31604528e-05  5.79182160e-05 -1.46318343e-04\n",
      "  1.24970526e-02  4.82657598e-03  4.64652991e-03  3.26147361e-04\n",
      "  3.07761389e-03 -1.39783695e-03 -2.82721221e-03  2.45873909e-03\n",
      "  2.88968324e-04 -1.30322471e-04 -1.02238276e-03  3.88926885e-04\n",
      " -2.08860802e-04 -1.69514772e-03  2.24641248e-04  1.88922015e-04\n",
      "  1.50188734e-03 -1.73770604e-04 -8.32050282e-04 -6.18003542e-04\n",
      " -1.00553007e-04 -5.04143653e-04  1.30330853e-04  2.63121532e-04\n",
      " -2.98293890e-04 -4.94687469e-04  2.41915084e-04 -4.68807062e-04\n",
      " -7.04903796e-05  1.14764280e-05 -5.66134113e-05 -4.45120677e-05\n",
      " -5.94845478e-05  1.66883750e-04 -1.37611153e-02 -4.97551216e-03\n",
      " -4.98271175e-03 -5.12831728e-04 -3.48042371e-03  1.52073370e-03\n",
      "  3.22295702e-03 -2.65022763e-03 -3.04640154e-04  1.38457122e-04\n",
      "  1.10103586e-03 -4.22727491e-04  2.71870813e-04  1.95643376e-03\n",
      " -3.00209213e-04 -2.29294237e-04 -1.67609891e-03  1.77753158e-04\n",
      "  9.79251112e-04  7.25325081e-04  7.32767949e-05  5.40592126e-04\n",
      " -1.48645733e-04 -3.17422790e-04  3.29949456e-04  5.61685534e-04\n",
      " -2.59272027e-04  5.31329657e-04  6.82930113e-05  2.00662962e-05\n",
      "  1.12744536e-04  6.40627331e-05  1.06608066e-04 -1.72248983e-04\n",
      "  1.54236769e-02  5.28051937e-03  5.48786018e-03  7.69570062e-04\n",
      "  4.08126786e-03 -1.62815058e-03 -3.64414090e-03  3.00403265e-03\n",
      "  4.45595448e-04 -3.19717365e-05 -1.06963015e-03  6.43145875e-04\n",
      " -1.74576591e-04 -2.08032597e-03  6.01564068e-04  5.72503777e-04\n",
      "  2.16337200e-03  1.52188382e-04 -8.27311771e-04 -4.87844052e-04\n",
      "  4.17280156e-04 -1.95663655e-04  7.30028260e-04  9.83826932e-04\n",
      "  1.61286764e-04  1.24758226e-04  1.14988058e-03  4.61480056e-04\n",
      "  1.25850772e-03  1.00831082e-03  1.36589189e-03  1.05164573e-03\n",
      "  1.38438679e-03  2.26935628e-03 -1.60420295e-02 -3.17905797e-03\n",
      " -3.27651668e-03  1.87341287e-03 -1.58452895e-03  5.34095336e-03\n",
      "  7.24389683e-03  6.21123938e-04  4.24328959e-03  5.23032900e-03\n",
      "  5.26910648e-03  5.00211539e-03  6.86847698e-03  1.02656456e-02\n",
      "  7.89420865e-03  6.74178218e-03  7.17348047e-03  1.43309385e-02\n",
      "  1.58547834e-02  1.45131834e-02  1.46551589e-02  2.05638763e-02\n",
      "  1.69062801e-02  1.97576713e-02  2.05785669e-02  2.72900518e-02\n",
      "  2.65715066e-02  2.73087248e-02  2.70146597e-02  2.79321987e-02\n",
      "  3.59414220e-02  3.89581919e-02  4.16445807e-02  5.74513152e-02\n",
      "  7.10929483e-02  6.35154098e-02  6.85577914e-02  6.44835979e-02\n",
      "  8.54976848e-02  7.59437084e-02  8.13624114e-02  9.18373242e-02\n",
      "  1.20749608e-01  1.12585366e-01  1.03809796e-01  1.21218294e-01\n",
      "  1.84156761e-01  1.20700091e-01  1.71990439e-01  1.97567046e-01\n",
      "  2.20742956e-01  2.28055716e-01  2.10631296e-01  2.60707825e-01\n",
      "  2.65755683e-01  3.09951574e-01  2.89843082e-01  3.83211881e-01\n",
      "  3.32245469e-01  4.37892228e-01  4.49507326e-01  3.86497885e-01\n",
      "  4.52513784e-01  5.41788161e-01  5.63525677e-01  6.42084718e-01\n",
      "  5.99530458e-01  6.68906629e-01  6.53848290e-01  7.01156855e-01\n",
      "  8.21654201e-01  9.14874911e-01  1.06421959e+00  1.02434421e+00\n",
      "  1.26668775e+00  1.27685285e+00  1.12809813e+00  1.66881561e+00\n",
      "  1.19758451e+00  2.01445961e+00  1.56739902e+00  1.60110795e+00\n",
      "  2.28388572e+00  2.04219484e+00  2.52405500e+00  2.38050389e+00\n",
      "  1.84384120e+00  2.67826414e+00  2.20352960e+00  3.86043453e+00\n",
      "  3.00593448e+00  3.56000066e+00  3.95540142e+00  3.47874403e+00\n",
      "  4.12412500e+00  4.17290258e+00  5.31655025e+00  4.56859922e+00\n",
      "  5.02492189e+00  5.79663849e+00  4.70148849e+00  6.48803663e+00\n",
      "  5.66048336e+00  6.45940161e+00  9.51526928e+00  9.28085518e+00\n",
      "  9.18422318e+00  7.38134384e+00  8.06065941e+00  1.14331980e+01\n",
      "  1.20340586e+01  1.18254957e+01  1.33134823e+01  1.24673376e+01\n",
      "  1.09274235e+01  1.35373325e+01  1.20845394e+01  1.31081009e+01\n",
      "  1.37746153e+01  1.52385435e+01  1.83089962e+01  1.47523298e+01\n",
      "  1.78880062e+01  1.70399342e+01  1.72463360e+01  2.04004421e+01\n",
      "  2.51367760e+01  2.05499287e+01  2.23299313e+01  2.16660557e+01\n",
      "  2.29043140e+01  3.53911476e+01  2.83768330e+01  2.20896950e+01\n",
      "  2.90324898e+01  2.83275032e+01  3.17541809e+01  2.99168797e+01\n",
      "  3.32715492e+01  3.45680084e+01  3.79310112e+01  4.10059586e+01\n",
      "  4.14746933e+01  4.87848206e+01  4.18208580e+01  4.93672104e+01\n",
      "  4.80357933e+01  4.09747734e+01  4.88304253e+01  4.78072090e+01\n",
      "  4.69699135e+01  4.23813744e+01  4.84176865e+01  6.15792847e+01\n",
      "  4.84965172e+01  5.94972000e+01  6.15638809e+01  5.44607048e+01\n",
      "  6.56892853e+01  6.18035965e+01  6.12204628e+01  7.51049576e+01\n",
      "  7.31633072e+01  7.25689163e+01  7.09687500e+01  8.04934006e+01\n",
      "  6.99620743e+01  8.88766174e+01  7.59233475e+01  9.29419861e+01\n",
      "  9.45840225e+01  8.49701614e+01  7.90608139e+01  8.45030365e+01\n",
      "  1.02823524e+02  1.08703773e+02  1.00108574e+02  1.08109604e+02\n",
      "  1.03019722e+02  1.28421539e+02  8.03147888e+01  8.96286163e+01\n",
      "  9.57985458e+01  1.09996613e+02  1.19270348e+02  9.43709488e+01\n",
      "  1.27403557e+02  9.60530930e+01  1.15280296e+02  1.00713272e+02\n",
      "  1.01682533e+02  1.20511681e+02  1.34320129e+02  1.11713326e+02\n",
      "  1.40360153e+02  1.15730057e+02  1.32149048e+02  1.23614738e+02\n",
      "  1.47544281e+02  1.23699142e+02  1.31595657e+02  1.22123955e+02\n",
      "  1.54555038e+02  1.37179871e+02  1.34111176e+02  1.07015236e+02\n",
      "  1.35009598e+02  1.14429893e+02  1.58224594e+02  1.21502777e+02\n",
      "  1.38861801e+02  1.45937531e+02  1.06954971e+02  1.56291260e+02\n",
      "  1.18571098e+02  1.10351135e+02  1.58973465e+02  1.52743256e+02\n",
      "  1.32230392e+02  1.55810532e+02  1.22873802e+02  1.66141953e+02\n",
      "  1.12871742e+02  1.34901215e+02  1.29231659e+02  1.29795792e+02\n",
      "  1.41555222e+02  1.14575546e+02  1.10485397e+02  1.16561874e+02\n",
      "  1.11677856e+02  1.15235168e+02  1.58690796e+02  1.34083344e+02\n",
      "  1.09965446e+02  1.24583351e+02  1.14949150e+02  1.18382935e+02\n",
      "  1.02894363e+02  1.09996315e+02  1.13667534e+02  9.90535583e+01\n",
      "  9.29851837e+01  9.83919373e+01  1.37011154e+02  1.03752274e+02\n",
      "  1.04130165e+02  1.02438377e+02  1.00327156e+02  9.68462372e+01\n",
      "  9.48918839e+01  7.81931686e+01  8.45039215e+01  1.02695549e+02\n",
      "  9.91147003e+01  1.00307198e+02  8.08235168e+01  8.36430054e+01\n",
      "  8.21803055e+01  7.49535141e+01  8.98379974e+01  9.40070877e+01\n",
      "  8.08774872e+01  8.33536682e+01  7.73084412e+01  5.81322212e+01\n",
      "  7.09586105e+01  5.71633949e+01  6.14008255e+01  7.01925430e+01\n",
      "  7.46429672e+01  5.33419800e+01  5.92964821e+01  6.22177620e+01\n",
      "  5.55117760e+01  4.98026848e+01  5.02768021e+01  4.65786324e+01\n",
      "  5.61793823e+01  4.57183609e+01  4.86503372e+01  4.04320641e+01\n",
      "  3.57531242e+01  3.85787239e+01  4.07895279e+01  3.73808098e+01\n",
      "  3.76797142e+01  4.37885628e+01  4.35942726e+01  2.50593071e+01\n",
      "  3.43510475e+01  3.39432640e+01  3.05952740e+01  3.16053276e+01\n",
      "  2.79347343e+01  2.15438919e+01  2.53471699e+01  2.44234257e+01\n",
      "  2.17709503e+01  1.66879292e+01  2.15958920e+01  2.65315628e+01\n",
      "  1.79506054e+01  1.78364868e+01  1.54035234e+01  1.87376633e+01\n",
      "  1.47891331e+01  1.64112263e+01  1.39008627e+01  1.48713856e+01\n",
      "  1.47134905e+01  1.51677351e+01  1.38773756e+01  1.13061981e+01\n",
      "  1.38035936e+01  1.24831848e+01  1.11929646e+01  1.01478519e+01\n",
      "  9.42567825e+00  8.54237843e+00  8.67182541e+00  8.77628136e+00\n",
      "  7.09452295e+00  7.76552868e+00  7.70959568e+00  6.03194046e+00\n",
      "  6.86756277e+00  4.74350023e+00  5.21674252e+00  5.56995583e+00\n",
      "  3.57369375e+00  4.67028332e+00  5.15993404e+00  3.44085670e+00\n",
      "  3.65570712e+00  3.76250052e+00  3.28166032e+00  3.43175697e+00\n",
      "  3.49365997e+00  3.33791852e+00  2.60265112e+00  2.79408383e+00\n",
      "  1.99449337e+00  2.22528458e+00  1.96248114e+00  1.90482998e+00\n",
      "  1.96577799e+00  1.44144940e+00  1.49813592e+00  1.45117855e+00\n",
      "  1.36736155e+00  1.14502048e+00  1.25488925e+00  1.17328155e+00\n",
      "  1.21029556e+00  1.05103636e+00  1.10542440e+00  7.78447926e-01\n",
      "  7.09574878e-01  9.20686185e-01  7.92671561e-01  6.08626544e-01\n",
      "  5.63838899e-01  5.17078221e-01  4.61376965e-01  4.71071213e-01\n",
      "  4.64067668e-01  5.51429629e-01  4.77385134e-01  3.39948148e-01\n",
      "  3.17210019e-01  3.05976212e-01  2.97766626e-01  2.78793871e-01\n",
      "  2.91620672e-01  2.23511964e-01  3.11878920e-01  1.60532057e-01\n",
      "  2.23078534e-01  1.74146473e-01  1.76339313e-01  1.46067768e-01\n",
      "  1.54312551e-01  1.21698178e-01  8.14375952e-02  9.76361558e-02\n",
      "  7.80987740e-02  1.09209798e-01  7.99127221e-02  6.83558658e-02\n",
      "  7.60482997e-02  6.81479052e-02  4.45321202e-02  5.08546755e-02\n",
      "  5.03694154e-02  5.19972220e-02  4.06713001e-02  4.32948545e-02\n",
      "  3.87433507e-02  3.32187563e-02  3.12804170e-02  2.43939273e-02\n",
      "  2.04715021e-02  2.20556855e-02  2.02975068e-02  1.93152949e-02\n",
      "  1.68979336e-02  1.42401289e-02  3.18675637e-02  1.54587682e-02\n",
      "  1.28131527e-02  1.37443412e-02  1.26425782e-02  7.24562071e-03\n",
      "  2.37026624e-03  6.57298835e-03  4.95380629e-03  6.17343141e-03\n",
      "  3.12229432e-03  4.52637859e-03  3.00414418e-03  1.17592537e-03\n",
      "  4.05709352e-03  2.92828027e-03  3.49911209e-03  1.71258196e-03\n",
      "  1.11562293e-03  8.21513124e-04  1.94358651e-03  1.64944888e-03\n",
      "  1.71586045e-03  1.53569994e-03  4.61922202e-04  5.63344103e-04\n",
      "  6.05133711e-04  6.73911709e-04  7.02925376e-04  5.43592614e-04\n",
      "  4.27813968e-04  1.69358958e-04  3.69050220e-04  8.96447513e-04\n",
      " -1.56401712e-02 -2.96283443e-03 -1.42502098e-03 -3.68085736e-03\n",
      " -2.77588004e-03  7.32283283e-04  3.45135760e-03 -4.44966659e-04\n",
      "  3.70576687e-04 -3.52925272e-04  1.43078645e-03  3.12786724e-05\n",
      "  1.05332944e-03  2.61400035e-03 -6.76899333e-04  1.19413737e-04\n",
      " -9.67936823e-04  2.88823096e-04  1.46779127e-03  1.07784953e-03\n",
      " -1.51831511e-04  1.42742647e-04 -1.68341896e-04 -2.86723342e-04\n",
      "  5.53631049e-04  4.16702707e-04  2.76989798e-04  2.68326927e-04\n",
      " -5.51464691e-05  1.10327739e-04  8.96770725e-05  2.20356218e-04\n",
      "  6.89746666e-05 -3.84707702e-04  1.37114078e-02  3.02442629e-03\n",
      "  1.22899038e-03  3.47275008e-03  2.32774881e-03 -2.76531209e-04\n",
      " -2.75090523e-03  4.29029868e-04 -1.97381407e-04  5.77108702e-04\n",
      " -1.11655658e-03  6.58859790e-05 -8.95856181e-04 -2.24638544e-03\n",
      "  7.55258370e-04 -6.43625099e-05  8.87470378e-04 -2.20736489e-04\n",
      " -1.21739542e-03 -9.26459790e-04  2.35438725e-04 -6.41293518e-05\n",
      "  2.22015544e-04  2.81193847e-04 -4.61943098e-04 -3.10528150e-04\n",
      " -2.80956359e-04 -2.11022867e-04  8.38095802e-05 -7.97835382e-05\n",
      " -6.16735560e-05 -1.93611530e-04 -2.62673220e-05  3.86038679e-04\n",
      " -1.19410791e-02 -2.84733111e-03 -8.21811263e-04 -3.13928467e-03\n",
      " -1.78859849e-03  1.32662884e-04  2.35084724e-03 -2.88078649e-04\n",
      "  2.04329248e-04 -6.41264662e-04  9.95744253e-04 -2.18106652e-05\n",
      "  8.54015874e-04  2.04049703e-03 -7.56313617e-04  7.97800240e-05\n",
      " -7.67182210e-04  2.18602290e-04  1.06938463e-03  8.49281496e-04\n",
      " -2.67507654e-04  3.06716865e-05 -2.44533643e-04 -2.60258443e-04\n",
      "  4.02582227e-04  2.43899427e-04  3.10753006e-04  1.79659444e-04\n",
      " -8.78892024e-05  5.66566050e-05  4.28027997e-05  1.83582975e-04\n",
      "  1.47733817e-05 -3.68012988e-04  1.05558317e-02  2.73903669e-03\n",
      "  4.88043879e-04  2.90701957e-03  1.35042216e-03  9.38307494e-07\n",
      " -2.02263775e-03  1.45076730e-04 -2.20731192e-04  6.91644731e-04\n",
      " -9.10748553e-04 -5.86133137e-06 -8.15430190e-04 -1.87074370e-03\n",
      "  7.72159896e-04 -9.85847728e-05  6.71804883e-04 -2.16316155e-04\n",
      " -9.44070809e-04 -7.85604585e-04  2.94217927e-04  3.32574928e-07\n",
      "  2.55776569e-04  2.32453545e-04 -3.63907660e-04 -1.87398138e-04\n",
      " -3.30215436e-04 -1.47060666e-04  9.57305238e-05 -3.82242979e-05\n",
      " -3.46604866e-05 -1.72276923e-04  8.47861520e-06  3.64738429e-04\n",
      " -9.40619037e-03 -2.69512320e-03 -2.06080105e-04 -2.74095871e-03\n",
      " -9.74490657e-04 -1.08408349e-04  1.75567786e-03 -1.55347225e-05\n",
      "  2.32988677e-04 -7.62075360e-04  8.38740671e-04  3.17028498e-05\n",
      "  7.87081139e-04  1.74862472e-03 -7.91382510e-04  1.15670722e-04\n",
      " -5.86830312e-04  2.11805440e-04  8.55430146e-04  7.44890713e-04\n",
      " -3.21944099e-04 -1.92682564e-05 -2.87380681e-04 -2.15186621e-04\n",
      "  3.34601325e-04  1.37002062e-04  3.78444442e-04  1.22908794e-04\n",
      " -1.04162675e-04  2.54079841e-05  1.91021390e-05  1.78779170e-04\n",
      " -1.79507915e-05 -3.61646904e-04  8.45053699e-03  2.69231969e-03\n",
      " -6.29182541e-05  2.62014382e-03  6.31892355e-04  2.15229578e-04\n",
      " -1.51059346e-03 -1.03372193e-04 -2.39650020e-04  8.29900033e-04\n",
      " -7.89927610e-04 -4.92256877e-05 -7.74906017e-04 -1.64850149e-03\n",
      "  8.07936420e-04 -1.41223136e-04  5.20867470e-04 -2.16844492e-04\n",
      " -7.62989046e-04 -7.04721489e-04  3.43945838e-04  5.31508849e-05\n",
      "  2.99797452e-04  1.98474270e-04 -3.07250768e-04 -8.95236299e-05\n",
      " -4.11100918e-04 -9.08879083e-05  1.12195543e-04 -6.57345481e-06\n",
      " -7.62859236e-06 -1.86803154e-04  2.52601931e-05  3.74047348e-04\n",
      " -7.62408506e-03 -2.72173923e-03  3.13760887e-04 -2.54357350e-03\n",
      " -3.08702525e-04 -3.31588148e-04  1.29376259e-03  2.20112779e-04\n",
      "  2.46504060e-04 -9.03446053e-04  7.52154621e-04  6.81002639e-05\n",
      "  7.63991731e-04  1.56551413e-03 -8.51543504e-04  1.61029733e-04\n",
      " -4.52897861e-04  2.21543727e-04  7.04519858e-04  5.20703122e-02\n",
      " -1.64176570e-03 -1.29166921e-03 -2.71134835e-04 -1.26513783e-04\n",
      " -4.03252023e-04 -4.19466640e-04 -5.82979192e-05 -4.97860834e-04\n",
      " -1.68474333e-04 -1.17149393e-05 -4.50760999e-05 -1.52708424e-04\n",
      " -8.25700699e-05]\n"
     ]
    }
   ],
   "source": [
    "foldFreq = 436 #in MHz (period of the pulsar will show a pulse)\n",
    "foldBin = int(((1.0/foldFreq)*1000)/TimeBinSize) #length of that period in terms of time bins\n",
    "hei = int((pre.size/foldBin) + 1)\n",
    "\n",
    "print(pre.shape)\n",
    "#pre = np.reshape(pre,(pre.size,1))\n",
    "print(pre.shape)\n",
    "post = np.copy(pre)\n",
    "print(post)\n",
    "print(post.shape)\n",
    "post = np.resize(post,(foldBin,hei))\n",
    "print(post.shape)\n",
    "post = np.sum(post,axis=1)\n",
    "print(post.shape)\n",
    "print(post)"
   ]
  },
  {
   "cell_type": "code",
   "execution_count": 119,
   "metadata": {},
   "outputs": [
    {
     "data": {
      "text/html": [
       "\n",
       "\n",
       "\n",
       "\n",
       "\n",
       "\n",
       "  <div class=\"bk-root\" id=\"f1a6ed08-97ca-47f7-96e4-70ad61192771\"></div>\n"
      ]
     },
     "metadata": {},
     "output_type": "display_data"
    },
    {
     "data": {
      "application/javascript": [
       "(function(root) {\n",
       "  function embed_document(root) {\n",
       "    \n",
       "  var docs_json = {\"130d2e3b-8adb-4379-a117-6161b9709a8e\":{\"roots\":{\"references\":[{\"attributes\":{},\"id\":\"f6589d7c-a7f7-4350-a771-c6a09b9b417f\",\"type\":\"Selection\"},{\"attributes\":{},\"id\":\"03d3a81e-b12e-4844-8401-f1cfa4b23a86\",\"type\":\"SaveTool\"},{\"attributes\":{},\"id\":\"4a1bc7d4-596c-4e44-9f80-868e4ee77e2e\",\"type\":\"ResetTool\"},{\"attributes\":{},\"id\":\"fff583d1-b655-4f65-b7fe-86f5700fcbf4\",\"type\":\"HelpTool\"},{\"attributes\":{\"plot\":{\"id\":\"94ef27d6-1f46-4986-9d44-91353bfb0936\",\"subtype\":\"Figure\",\"type\":\"Plot\"},\"ticker\":{\"id\":\"8f000d9d-1316-4b2c-8ff7-b39c3d901902\",\"type\":\"BasicTicker\"}},\"id\":\"2a2a3a36-c4d5-454b-a5f9-65c84503620a\",\"type\":\"Grid\"},{\"attributes\":{},\"id\":\"8f000d9d-1316-4b2c-8ff7-b39c3d901902\",\"type\":\"BasicTicker\"},{\"attributes\":{\"overlay\":{\"id\":\"74df9043-d92a-40bd-91b6-799dca7c843b\",\"type\":\"BoxAnnotation\"}},\"id\":\"6e5dcaea-7df7-4a72-8729-18d9d069224e\",\"type\":\"BoxZoomTool\"},{\"attributes\":{},\"id\":\"0b6def49-2abc-4a4b-b45c-b2d32ddbc856\",\"type\":\"UnionRenderers\"},{\"attributes\":{\"data_source\":{\"id\":\"f62d3761-f0ea-4e7b-a3bd-57c74579970a\",\"type\":\"ColumnDataSource\"},\"glyph\":{\"id\":\"8f46ad9b-6ed3-4913-a4a0-5aba34f7f225\",\"type\":\"Line\"},\"hover_glyph\":null,\"muted_glyph\":null,\"nonselection_glyph\":{\"id\":\"4f3179ab-7155-4865-bcc7-229b00f9b73b\",\"type\":\"Line\"},\"selection_glyph\":null,\"view\":{\"id\":\"3f7514cf-fe64-4cb7-b115-5812705f7d29\",\"type\":\"CDSView\"}},\"id\":\"6d479c89-ebc9-4016-8f4a-c04a77ac695b\",\"type\":\"GlyphRenderer\"},{\"attributes\":{\"active_drag\":\"auto\",\"active_inspect\":\"auto\",\"active_multi\":null,\"active_scroll\":\"auto\",\"active_tap\":\"auto\",\"tools\":[{\"id\":\"2a861d18-ee23-4b6c-be11-7ba80995d734\",\"type\":\"PanTool\"},{\"id\":\"fa638f73-5031-4a80-96d9-ef3da9bcf5fd\",\"type\":\"WheelZoomTool\"},{\"id\":\"6e5dcaea-7df7-4a72-8729-18d9d069224e\",\"type\":\"BoxZoomTool\"},{\"id\":\"03d3a81e-b12e-4844-8401-f1cfa4b23a86\",\"type\":\"SaveTool\"},{\"id\":\"4a1bc7d4-596c-4e44-9f80-868e4ee77e2e\",\"type\":\"ResetTool\"},{\"id\":\"fff583d1-b655-4f65-b7fe-86f5700fcbf4\",\"type\":\"HelpTool\"}]},\"id\":\"fbfde326-800a-4d0b-bfc6-329aa0179989\",\"type\":\"Toolbar\"},{\"attributes\":{},\"id\":\"71d74d4a-8b59-4254-840f-bd7cd4792ff0\",\"type\":\"BasicTickFormatter\"},{\"attributes\":{},\"id\":\"876d7250-351b-4a8d-936e-ce3897ae221b\",\"type\":\"LinearScale\"},{\"attributes\":{},\"id\":\"1ccb288d-e191-454a-b7a2-37e470ed0289\",\"type\":\"BasicTicker\"},{\"attributes\":{},\"id\":\"fa638f73-5031-4a80-96d9-ef3da9bcf5fd\",\"type\":\"WheelZoomTool\"},{\"attributes\":{\"callback\":null,\"end\":95},\"id\":\"348a4a8a-7858-4dfe-9a4e-fe5ec09f451e\",\"type\":\"Range1d\"},{\"attributes\":{\"axis_label\":\"PulseIntensity\",\"formatter\":{\"id\":\"71d74d4a-8b59-4254-840f-bd7cd4792ff0\",\"type\":\"BasicTickFormatter\"},\"plot\":{\"id\":\"94ef27d6-1f46-4986-9d44-91353bfb0936\",\"subtype\":\"Figure\",\"type\":\"Plot\"},\"ticker\":{\"id\":\"1ccb288d-e191-454a-b7a2-37e470ed0289\",\"type\":\"BasicTicker\"}},\"id\":\"6c4c121c-6201-42bf-a77d-26b0b3ae90ca\",\"type\":\"LinearAxis\"},{\"attributes\":{},\"id\":\"2a861d18-ee23-4b6c-be11-7ba80995d734\",\"type\":\"PanTool\"},{\"attributes\":{\"plot\":null,\"text\":\"\"},\"id\":\"bb240c1b-48fd-43e2-b88c-7443cc0b59e4\",\"type\":\"Title\"},{\"attributes\":{\"line_color\":\"#1f77b4\",\"x\":{\"field\":\"x\"},\"y\":{\"field\":\"y\"}},\"id\":\"8f46ad9b-6ed3-4913-a4a0-5aba34f7f225\",\"type\":\"Line\"},{\"attributes\":{\"line_alpha\":0.1,\"line_color\":\"#1f77b4\",\"x\":{\"field\":\"x\"},\"y\":{\"field\":\"y\"}},\"id\":\"4f3179ab-7155-4865-bcc7-229b00f9b73b\",\"type\":\"Line\"},{\"attributes\":{\"axis_label\":\"Phase\",\"formatter\":{\"id\":\"747e8fe5-e71a-45d4-ad17-158cb93cb2a2\",\"type\":\"BasicTickFormatter\"},\"plot\":{\"id\":\"94ef27d6-1f46-4986-9d44-91353bfb0936\",\"subtype\":\"Figure\",\"type\":\"Plot\"},\"ticker\":{\"id\":\"8f000d9d-1316-4b2c-8ff7-b39c3d901902\",\"type\":\"BasicTicker\"}},\"id\":\"bd7aaeee-a6cc-4745-af3c-471c0e65d688\",\"type\":\"LinearAxis\"},{\"attributes\":{\"callback\":null},\"id\":\"80d9dee4-8aeb-43b0-a070-ea09ebe00645\",\"type\":\"DataRange1d\"},{\"attributes\":{\"callback\":null,\"data\":{\"x\":{\"__ndarray__\":\"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\",\"dtype\":\"float64\",\"shape\":[917]},\"y\":{\"__ndarray__\":\"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\",\"dtype\":\"float32\",\"shape\":[917]}},\"selected\":{\"id\":\"f6589d7c-a7f7-4350-a771-c6a09b9b417f\",\"type\":\"Selection\"},\"selection_policy\":{\"id\":\"0b6def49-2abc-4a4b-b45c-b2d32ddbc856\",\"type\":\"UnionRenderers\"}},\"id\":\"f62d3761-f0ea-4e7b-a3bd-57c74579970a\",\"type\":\"ColumnDataSource\"},{\"attributes\":{\"dimension\":1,\"plot\":{\"id\":\"94ef27d6-1f46-4986-9d44-91353bfb0936\",\"subtype\":\"Figure\",\"type\":\"Plot\"},\"ticker\":{\"id\":\"1ccb288d-e191-454a-b7a2-37e470ed0289\",\"type\":\"BasicTicker\"}},\"id\":\"2eb1fe4d-0478-4e2e-a3c5-5a50e6ddc670\",\"type\":\"Grid\"},{\"attributes\":{\"below\":[{\"id\":\"bd7aaeee-a6cc-4745-af3c-471c0e65d688\",\"type\":\"LinearAxis\"}],\"left\":[{\"id\":\"6c4c121c-6201-42bf-a77d-26b0b3ae90ca\",\"type\":\"LinearAxis\"}],\"plot_height\":400,\"plot_width\":400,\"renderers\":[{\"id\":\"bd7aaeee-a6cc-4745-af3c-471c0e65d688\",\"type\":\"LinearAxis\"},{\"id\":\"2a2a3a36-c4d5-454b-a5f9-65c84503620a\",\"type\":\"Grid\"},{\"id\":\"6c4c121c-6201-42bf-a77d-26b0b3ae90ca\",\"type\":\"LinearAxis\"},{\"id\":\"2eb1fe4d-0478-4e2e-a3c5-5a50e6ddc670\",\"type\":\"Grid\"},{\"id\":\"74df9043-d92a-40bd-91b6-799dca7c843b\",\"type\":\"BoxAnnotation\"},{\"id\":\"6d479c89-ebc9-4016-8f4a-c04a77ac695b\",\"type\":\"GlyphRenderer\"}],\"title\":{\"id\":\"bb240c1b-48fd-43e2-b88c-7443cc0b59e4\",\"type\":\"Title\"},\"toolbar\":{\"id\":\"fbfde326-800a-4d0b-bfc6-329aa0179989\",\"type\":\"Toolbar\"},\"x_range\":{\"id\":\"80d9dee4-8aeb-43b0-a070-ea09ebe00645\",\"type\":\"DataRange1d\"},\"x_scale\":{\"id\":\"0ba9c064-9c7e-4e91-9f12-37709ae3c6ff\",\"type\":\"LinearScale\"},\"y_range\":{\"id\":\"348a4a8a-7858-4dfe-9a4e-fe5ec09f451e\",\"type\":\"Range1d\"},\"y_scale\":{\"id\":\"876d7250-351b-4a8d-936e-ce3897ae221b\",\"type\":\"LinearScale\"}},\"id\":\"94ef27d6-1f46-4986-9d44-91353bfb0936\",\"subtype\":\"Figure\",\"type\":\"Plot\"},{\"attributes\":{},\"id\":\"747e8fe5-e71a-45d4-ad17-158cb93cb2a2\",\"type\":\"BasicTickFormatter\"},{\"attributes\":{},\"id\":\"0ba9c064-9c7e-4e91-9f12-37709ae3c6ff\",\"type\":\"LinearScale\"},{\"attributes\":{\"source\":{\"id\":\"f62d3761-f0ea-4e7b-a3bd-57c74579970a\",\"type\":\"ColumnDataSource\"}},\"id\":\"3f7514cf-fe64-4cb7-b115-5812705f7d29\",\"type\":\"CDSView\"},{\"attributes\":{\"bottom_units\":\"screen\",\"fill_alpha\":{\"value\":0.5},\"fill_color\":{\"value\":\"lightgrey\"},\"left_units\":\"screen\",\"level\":\"overlay\",\"line_alpha\":{\"value\":1.0},\"line_color\":{\"value\":\"black\"},\"line_dash\":[4,4],\"line_width\":{\"value\":2},\"plot\":null,\"render_mode\":\"css\",\"right_units\":\"screen\",\"top_units\":\"screen\"},\"id\":\"74df9043-d92a-40bd-91b6-799dca7c843b\",\"type\":\"BoxAnnotation\"}],\"root_ids\":[\"94ef27d6-1f46-4986-9d44-91353bfb0936\"]},\"title\":\"Bokeh Application\",\"version\":\"0.13.0\"}};\n",
       "  var render_items = [{\"docid\":\"130d2e3b-8adb-4379-a117-6161b9709a8e\",\"roots\":{\"94ef27d6-1f46-4986-9d44-91353bfb0936\":\"f1a6ed08-97ca-47f7-96e4-70ad61192771\"}}];\n",
       "  root.Bokeh.embed.embed_items_notebook(docs_json, render_items);\n",
       "\n",
       "  }\n",
       "  if (root.Bokeh !== undefined) {\n",
       "    embed_document(root);\n",
       "  } else {\n",
       "    var attempts = 0;\n",
       "    var timer = setInterval(function(root) {\n",
       "      if (root.Bokeh !== undefined) {\n",
       "        embed_document(root);\n",
       "        clearInterval(timer);\n",
       "      }\n",
       "      attempts++;\n",
       "      if (attempts > 100) {\n",
       "        console.log(\"Bokeh: ERROR: Unable to run BokehJS code because BokehJS library is missing\")\n",
       "        clearInterval(timer);\n",
       "      }\n",
       "    }, 10, root)\n",
       "  }\n",
       "})(window);"
      ],
      "application/vnd.bokehjs_exec.v0+json": ""
     },
     "metadata": {
      "application/vnd.bokehjs_exec.v0+json": {
       "id": "94ef27d6-1f46-4986-9d44-91353bfb0936"
      }
     },
     "output_type": "display_data"
    }
   ],
   "source": [
    "src3 = ColumnDataSource(data = dict(x = np.linspace(0,1,post.shape[0]), \n",
    "                             y = post ) )\n",
    "\n",
    "fig3 = figure(plot_width = 400, plot_height = 400, \n",
    "              #x_range = Range1d(start_time,stop_time), \n",
    "              y_range = Range1d(0,95),\n",
    "              x_axis_label = 'Phase',\n",
    "              y_axis_label = 'PulseIntensity',)\n",
    "\n",
    "fig3.line(source = src3, x='x', y='y',)\n",
    "\n",
    "show(fig3)"
   ]
  }
 ],
 "metadata": {
  "kernelspec": {
   "display_name": "Python 3",
   "language": "python",
   "name": "python3"
  },
  "language_info": {
   "codemirror_mode": {
    "name": "ipython",
    "version": 3
   },
   "file_extension": ".py",
   "mimetype": "text/x-python",
   "name": "python",
   "nbconvert_exporter": "python",
   "pygments_lexer": "ipython3",
   "version": "3.5.5"
  }
 },
 "nbformat": 4,
 "nbformat_minor": 2
}
