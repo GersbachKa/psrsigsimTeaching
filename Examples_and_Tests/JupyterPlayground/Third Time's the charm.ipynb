{
 "cells": [
  {
   "cell_type": "code",
   "execution_count": 1,
   "metadata": {},
   "outputs": [],
   "source": [
    "import sys\n",
    "sys.path.insert(0,'/home/kyle/GWA/NANOGrav/PsrSigSim/')\n",
    "import psrsigsim as PSS\n",
    "import numpy as np\n",
    "import h5py\n",
    "\n",
    "\n",
    "#Bokeh imports\n",
    "from bokeh.io import curdoc, output_file, show\n",
    "from bokeh.layouts import row, widgetbox\n",
    "from bokeh.models import ColumnDataSource, Range1d\n",
    "import bokeh.models.widgets as widgets\n",
    "from bokeh.plotting import figure"
   ]
  },
  {
   "cell_type": "code",
   "execution_count": 2,
   "metadata": {},
   "outputs": [],
   "source": [
    "#Default values for psr_dict----------------------------------------------------\n",
    "psr_dict = {}\n",
    "psr_dict['f0'] = 1400                   #Central frequency\n",
    "psr_dict['F0'] = 218                    #Pulsar spin freq\n",
    "psr_dict['bw'] = 400                    #Bandwidth\n",
    "psr_dict['Nf'] = 512                    #Frequency bins\n",
    "psr_dict['ObsTime'] = 20                #Observation time\n",
    "psr_dict['f_samp'] = 4                  #Sampling frequency\n",
    "psr_dict['SignalType'] = \"intensity\"    #'intensity' which carries a Nf x Nt\n",
    "#filterbank of pulses or 'voltage' which carries a 4 x Nt array of\n",
    "#voltage vs. time pulses representing 4 stokes channels\n",
    "psr_dict['dm'] = 0.1                     #Dispersion Measure Pescs/(CM^3)\n",
    "# V_ISS -- Intersteller Scintilation Velocity\n",
    "psr_dict['scint_bw'] =  15.6            #Scintilation Bandwidth\n",
    "psr_dict['scint_timescale'] = 2630      #Scintilation Timescale\n",
    "# pulsar -- pulsar name\n",
    "# telescope -- telescope name(GBT or Arecibo)\n",
    "psr_dict['freq_band'] = 1400            #Frequency band [327 ,430, 820, 1400, 2300]\n",
    "# aperature -- aperature (m)\n",
    "# area -- collecting area (m^2)\n",
    "# Tsys -- system temp (K), total of receiver, sky, spillover, etc. (only needed for noise)\n",
    "# name -- GBT or Arecibo\n",
    "# tau_scatter -- scattering time (ms)\n",
    "psr_dict['radiometer_noise'] =  False   #radiometer noise\n",
    "psr_dict['data_type']='float32'            #\n",
    "psr_dict['flux'] = 3\n",
    "psr_dict['to_DM_Broaden'] = True\n",
    "\n",
    "#Constants for generating data--------------------------------------------------\n",
    "dm_range = (0.1,10.1)\n",
    "dm_range_spacing = 5\n",
    "NumPulses = 1\n",
    "startingPeriod = 1.0\n",
    "start_time = (startingPeriod / psr_dict['F0']) *1000  #Getting start time in ms\n",
    "TimeBinSize = 0.0002499958334027766\n",
    "start_bin = int((start_time)/TimeBinSize)\n",
    "stop_time = (((1 / psr_dict['F0']) *1000) * NumPulses) + start_time\n",
    "# start_time + however many pulses times the pulsar period in ms\n",
    "stop_bin =int((stop_time)/TimeBinSize)\n"
   ]
  },
  {
   "cell_type": "code",
   "execution_count": 3,
   "metadata": {},
   "outputs": [],
   "source": [
    "fig = figure()\n",
    "\n",
    "dmSlider = widgets.Slider(title=\"Dispersion Measure\", value= 0.1,\n",
    "                          start=dm_range[0], end=dm_range[1],\n",
    "                          step=dm_range_spacing)\n",
    "\n",
    "Exbutton = widgets.Button(label='Generate Filter Bank', button_type='success')"
   ]
  },
  {
   "cell_type": "code",
   "execution_count": 6,
   "metadata": {},
   "outputs": [
    {
     "name": "stderr",
     "output_type": "stream",
     "text": [
      "WARNING: Unrecognized parfile line 'T2CMETHOD           TEMPO' [pint.models.timing_model]\n",
      "WARNING: Unrecognized parfile line 'MODE                     1' [pint.models.timing_model]\n",
      "WARNING: Unrecognized parfile line 'INFO -f' [pint.models.timing_model]\n",
      "WARNING: DDK model uses KIN as inclination angle. SINI will not be used. [pint.models.stand_alone_psr_binaries.DDK_model]\n"
     ]
    },
    {
     "name": "stdout",
     "output_type": "stream",
     "text": [
      "INFO: Using ICRS equatorial coordinate. The parameter KOM is measured respect to equatorial North. [pint.models.binary_ddk]\n",
      "Five warnings should appear. Warnings that are normal are: Unrecognized parfile line \"SOLARN0\", \"T2CMETHOD\", \"MODE\", \"INFO -f\". Warning about \"DDK model\" is also normal.  \n",
      "Two 'F0' values input. Simulator will default to input dictionary value.\n",
      "Two 'dm' values input. Simulator will default to input dictionary value.\n"
     ]
    },
    {
     "name": "stderr",
     "output_type": "stream",
     "text": [
      "/home/kyle/GWA/NANOGrav/PsrSigSim/psrsigsim/ism.py:237: RuntimeWarning: invalid value encountered in true_divide\n",
      "  input_array_norm = input_array[ii,:] / input_array_sum\n",
      "/home/kyle/anaconda3/lib/python3.5/site-packages/mkl_fft/_numpy_fft.py:1044: FutureWarning: Using a non-tuple sequence for multidimensional indexing is deprecated; use `arr[tuple(seq)]` instead of `arr[seq]`. In the future this will be interpreted as an array index, `arr[np.array(seq)]`, which will result either in an error or a different result.\n",
      "  output = mkl_fft.rfftn_numpy(a, s, axes)\n"
     ]
    },
    {
     "name": "stdout",
     "output_type": "stream",
     "text": [
      "98% dispersed in 3.969 seconds."
     ]
    },
    {
     "name": "stderr",
     "output_type": "stream",
     "text": [
      "WARNING: Unrecognized parfile line 'T2CMETHOD           TEMPO' [pint.models.timing_model]\n",
      "WARNING: Unrecognized parfile line 'MODE                     1' [pint.models.timing_model]\n",
      "WARNING: Unrecognized parfile line 'INFO -f' [pint.models.timing_model]\n",
      "WARNING: DDK model uses KIN as inclination angle. SINI will not be used. [pint.models.stand_alone_psr_binaries.DDK_model]\n"
     ]
    },
    {
     "name": "stdout",
     "output_type": "stream",
     "text": [
      "INFO: Using ICRS equatorial coordinate. The parameter KOM is measured respect to equatorial North. [pint.models.binary_ddk]\n",
      "Five warnings should appear. Warnings that are normal are: Unrecognized parfile line \"SOLARN0\", \"T2CMETHOD\", \"MODE\", \"INFO -f\". Warning about \"DDK model\" is also normal.  \n",
      "Two 'F0' values input. Simulator will default to input dictionary value.\n",
      "Two 'dm' values input. Simulator will default to input dictionary value.\n",
      "98% dispersed in 6.285 seconds."
     ]
    }
   ],
   "source": [
    "FullData = []\n",
    "i = 0\n",
    "while i<=10:\n",
    "    psr_dict['dm']=i\n",
    "    psr = PSS.Simulation(psr =  'J1713+0747' , sim_telescope= 'GBT',sim_ism= True, sim_scint= False, sim_dict = psr_dict)\n",
    "    psr.simulate()\n",
    "    FullData.append(psr.signal.signal[:,start_bin:stop_bin])\n",
    "    i+=10"
   ]
  },
  {
   "cell_type": "code",
   "execution_count": 37,
   "metadata": {},
   "outputs": [],
   "source": [
    "num = 0\n",
    "source = ColumnDataSource(data=dict(image=FullData[num][:,:]))"
   ]
  },
  {
   "cell_type": "code",
   "execution_count": 12,
   "metadata": {},
   "outputs": [],
   "source": [
    "array1 = [[0,1,2],\n",
    "          [3,4,5],\n",
    "          [6,7,8]]\n",
    "array2 = [[9,10,11],\n",
    "          [12,13,14],\n",
    "          [15,16,17]]\n",
    "array3 = [[18,19,20],\n",
    "          [21,22,23],\n",
    "          [24,25,26]]\n",
    "\n",
    "totarray= [array1,array2,array3]"
   ]
  },
  {
   "cell_type": "code",
   "execution_count": 27,
   "metadata": {},
   "outputs": [],
   "source": [
    "test= np.array(FullData)"
   ]
  },
  {
   "cell_type": "code",
   "execution_count": 28,
   "metadata": {},
   "outputs": [
    {
     "name": "stdout",
     "output_type": "stream",
     "text": [
      "<class 'numpy.ndarray'>\n"
     ]
    }
   ],
   "source": [
    "print(type(test))"
   ]
  },
  {
   "cell_type": "code",
   "execution_count": 6,
   "metadata": {},
   "outputs": [
    {
     "data": {
      "text/plain": [
       "1600.0"
      ]
     },
     "execution_count": 6,
     "metadata": {},
     "output_type": "execute_result"
    }
   ],
   "source": [
    "psr.signal.last_freq"
   ]
  },
  {
   "cell_type": "code",
   "execution_count": null,
   "metadata": {},
   "outputs": [],
   "source": [
    "f = h5py.File('NewTestFile.hdf5','w')\n",
    "dataString = 'Data'\n",
    "f.create_dataset(dataString, data=FullData)\n",
    "f.close()"
   ]
  },
  {
   "cell_type": "code",
   "execution_count": null,
   "metadata": {},
   "outputs": [],
   "source": [
    "FullData = None\n",
    "print(FullData)"
   ]
  },
  {
   "cell_type": "code",
   "execution_count": null,
   "metadata": {},
   "outputs": [],
   "source": [
    "f = h5py.File('NewTestFile.hdf5','r')\n",
    "dataString = 'Data'\n",
    "FullData = np.array(f.get(dataString))\n",
    "f.close()"
   ]
  },
  {
   "cell_type": "code",
   "execution_count": null,
   "metadata": {},
   "outputs": [],
   "source": [
    "print(FullData[1])"
   ]
  },
  {
   "cell_type": "code",
   "execution_count": 35,
   "metadata": {},
   "outputs": [],
   "source": [
    "N = 100\n",
    "\n",
    "x_ = np.linspace(0, 10, 200)\n",
    "y_ = np.linspace(0, 10, 200)\n",
    "z_ = np.linspace(0, 10, N)\n",
    "\n",
    "x, y, z = np.meshgrid(x_, y_, z_, indexing='xy')\n",
    "\n",
    "data = np.sin(x+z)*np.cos(y)\n",
    "\n",
    "source = ColumnDataSource(data=dict(image=[data[:, :, 0]]))\n",
    "\n"
   ]
  }
 ],
 "metadata": {
  "kernelspec": {
   "display_name": "Python 3",
   "language": "python",
   "name": "python3"
  },
  "language_info": {
   "codemirror_mode": {
    "name": "ipython",
    "version": 3
   },
   "file_extension": ".py",
   "mimetype": "text/x-python",
   "name": "python",
   "nbconvert_exporter": "python",
   "pygments_lexer": "ipython3",
   "version": "3.5.5"
  }
 },
 "nbformat": 4,
 "nbformat_minor": 2
}
