{
 "cells": [
  {
   "cell_type": "code",
   "execution_count": 16,
   "metadata": {},
   "outputs": [],
   "source": [
    "import json\n",
    "import numpy as np\n",
    "import hashlib"
   ]
  },
  {
   "cell_type": "code",
   "execution_count": 3,
   "metadata": {},
   "outputs": [],
   "source": [
    "dm_full_dict = {}\n",
    "folding_full_dict = {}\n",
    "scatter_full_dict = {}\n",
    "\n",
    "\n",
    "\n",
    "dm_psr_dict = {}\n",
    "dm_psr_dict['f0'] = 1400            \n",
    "dm_psr_dict['F0'] = 218                   \n",
    "dm_psr_dict['bw'] = 400                    \n",
    "dm_psr_dict['Nf'] = 512                    \n",
    "dm_psr_dict['ObsTime'] = None  \n",
    "dm_psr_dict['f_samp'] = 0.2                \n",
    "dm_psr_dict['SignalType'] = \"intensity\"    \n",
    "dm_psr_dict['dm'] = 0.1                     \n",
    "dm_psr_dict['scint_bw'] =  15.6           \n",
    "dm_psr_dict['scint_timescale'] = 2630      \n",
    "dm_psr_dict['freq_band'] = 1400            \n",
    "dm_psr_dict['radiometer_noise'] =  False   \n",
    "dm_psr_dict['data_type']='float32'         \n",
    "dm_psr_dict['flux'] = 3\n",
    "dm_psr_dict['to_DM_Broaden'] = False\n",
    "\n",
    "dm_range = (0,10)\n",
    "dm_spacing = 0.25\n",
    "\n",
    "dm_full_dict.update({\n",
    "                     \"dm_psr_dict\":dm_psr_dict,\n",
    "                     \"dm_range\":(0,10),\n",
    "                     \"dm_range_spacing\":0.25,\n",
    "                    })\n",
    "\n",
    "\n",
    "'''\n",
    "Must calculate after getting from JSON file:\n",
    "-dm_ObsTime\n",
    "-dm_TimeBinSize = (1.0/psr_dict['f_samp']) * 0.001\n",
    "-dm_stop_time = (1 / psr_dict['F0']) *1000\n",
    "-dm_first_freq = psr_dict['f0']-(psr_dict['bw']/2)\n",
    "-dm_last_freq = psr_dict['f0']+(psr_dict['bw']/2)\n",
    "\n",
    "dm_start_time, dm_start_bin = 0\n",
    "'''\n",
    "\n",
    "fl_psr_dict = {}\n",
    "\n",
    "fl_psr_dict['tau_scatter'] = 0.005\n",
    "fl_psr_dict['f0'] = 1150\n",
    "fl_psr_dict['bw'] = 1700\n",
    "fl_psr_dict['Nf'] = 34\n",
    "fl_psr_dict['dm'] = 0.001\n",
    "fl_psr_dict['radiometer_noise'] =  True\n",
    "fl_psr_dict['flux'] = 80\n",
    "fl_psr_dict['to_Scatter_Broaden_exp'] = False\n",
    "           \n",
    "fl_psr_dict['F0'] = 218                                     \n",
    "fl_psr_dict['ObsTime'] = None  \n",
    "fl_psr_dict['f_samp'] = 0.2                \n",
    "fl_psr_dict['SignalType'] = \"intensity\"                         \n",
    "fl_psr_dict['scint_bw'] =  15.6           \n",
    "fl_psr_dict['scint_timescale'] = 2630      \n",
    "fl_psr_dict['freq_band'] = 1400              \n",
    "fl_psr_dict['data_type']='float32'         \n",
    "fl_psr_dict['to_DM_Broaden'] = False\n",
    "\n",
    "folding_full_dict.update({\n",
    "                          \"folding_psr_dict\":fl_psr_dict,\n",
    "                          \"folding_signalMultiplier\":0.1,\n",
    "                        })\n",
    "\n",
    "\n",
    "'''\n",
    "Must calculate after getting from JSON file:\n",
    "-folding_ObsTime\n",
    "-folding_TimeBinSize = (1.0/psr_dict['f_samp']) * 0.001\n",
    "-folding_stop_time = (1 / psr_dict['F0']) *1000\n",
    "-folding_first_freq = psr_dict['f0']-(psr_dict['bw']/2)\n",
    "-folding_last_freq = psr_dict['f0']+(psr_dict['bw']/2)\n",
    "\n",
    "dm_start_time, dm_start_bin = 0\n",
    "'''\n",
    "\n",
    "\n",
    "sc_psr_dict = {}\n",
    "\n",
    "sc_psr_dict['tau_scatter'] = 0.005\n",
    "sc_psr_dict['f0'] = 1150\n",
    "sc_psr_dict['bw'] = 1700\n",
    "sc_psr_dict['Nf'] = 34\n",
    "sc_psr_dict['dm'] = 0.001\n",
    "sc_psr_dict['radiometer_noise'] =  True\n",
    "sc_psr_dict['flux'] = 80\n",
    "sc_psr_dict['to_Scatter_Broaden_exp'] = True\n",
    "           \n",
    "sc_psr_dict['F0'] = 218                                     \n",
    "sc_psr_dict['ObsTime'] = None  \n",
    "sc_psr_dict['f_samp'] = 0.2                \n",
    "sc_psr_dict['SignalType'] = \"intensity\"                         \n",
    "sc_psr_dict['scint_bw'] =  15.6           \n",
    "sc_psr_dict['scint_timescale'] = 2630      \n",
    "sc_psr_dict['freq_band'] = 1400              \n",
    "sc_psr_dict['data_type']='float32'         \n",
    "sc_psr_dict['to_DM_Broaden'] = False\n",
    "\n",
    "scatter_full_dict.update({\n",
    "                          \"scatter_psr_dict\":sc_psr_dict,\n",
    "                          \"scatter_signalMultiplier\":0.1,\n",
    "                        })\n",
    "\n",
    "\n",
    "all_dictionaries = {\n",
    "                    \"dm_constants\":dm_full_dict,\n",
    "                    \"folding_constants\":folding_full_dict,\n",
    "                    \"scatter_constants\":scatter_full_dict\n",
    "                   }\n"
   ]
  },
  {
   "cell_type": "code",
   "execution_count": 4,
   "metadata": {},
   "outputs": [],
   "source": [
    "with open('test.json','w') as fileOut:\n",
    "    json.dump(all_dictionaries,fileOut,sort_keys=True,indent=4,separators=(',', ': '))"
   ]
  },
  {
   "cell_type": "code",
   "execution_count": 5,
   "metadata": {},
   "outputs": [],
   "source": [
    "with open('dataGenerationConstants-Copy1.json','r') as fileIn:\n",
    "    all_dictionaries=json.load(fileIn)"
   ]
  },
  {
   "cell_type": "code",
   "execution_count": 27,
   "metadata": {},
   "outputs": [
    {
     "name": "stdout",
     "output_type": "stream",
     "text": [
      "{'dm_constants': {'dm_psr_dict': {'freq_band': 1400, 'F0': 218, 'Nf': 512, 'SignalType': 'intensity', 'ObsTime': None, 'radiometer_noise': False, 'f0': 1400, 'bw': 400, 'dm': 0.1, 'flux': 3, 'scint_timescale': 2630, 'data_type': 'float32', 'f_samp': 0.2, 'to_DM_Broaden': False, 'scint_bw': 15.6}, 'dm_range': [0, 10], 'dm_range_spacing': 0.25}, 'scatter_constants': {'scatter_psr_dict': {'freq_band': 1400, 'to_Scatter_Broaden_exp': True, 'F0': 218, 'Nf': 34, 'SignalType': 'intensity', 'ObsTime': None, 'radiometer_noise': True, 'f0': 1150, 'bw': 1700, 'to_DM_Broaden': False, 'dm': 0.001, 'flux': 80, 'scint_timescale': 2630, 'data_type': 'float32', 'f_samp': 0.2, 'tau_scatter': 0.005, 'scint_bw': 15.6}, 'scatter_signalMultiplier': 0.1}, 'folding_constants': {'folding_signalMultiplier': 0.1, 'folding_psr_dict': {'freq_band': 1400, 'to_Scatter_Broaden_exp': False, 'F0': 218, 'Nf': 34, 'SignalType': 'intensity', 'ObsTime': None, 'radiometer_noise': True, 'f0': 1150, 'bw': 1700, 'to_DM_Broaden': False, 'dm': 0.001, 'flux': 80, 'scint_timescale': 2630, 'data_type': 'float32', 'f_samp': 0.2, 'tau_scatter': 0.005, 'scint_bw': 15.6}}}\n"
     ]
    }
   ],
   "source": [
    "test = str(all_dictionaries)\n",
    "print(test)"
   ]
  },
  {
   "cell_type": "code",
   "execution_count": 29,
   "metadata": {},
   "outputs": [
    {
     "name": "stdout",
     "output_type": "stream",
     "text": [
      "f29b584a2ccbf2e9608d89ddcf3a33cf\n"
     ]
    }
   ],
   "source": [
    "\n",
    "print(hashlib.md5(str.encode(test)).hexdigest())"
   ]
  },
  {
   "cell_type": "code",
   "execution_count": 14,
   "metadata": {},
   "outputs": [],
   "source": []
  }
 ],
 "metadata": {
  "kernelspec": {
   "display_name": "Python 3",
   "language": "python",
   "name": "python3"
  },
  "language_info": {
   "codemirror_mode": {
    "name": "ipython",
    "version": 3
   },
   "file_extension": ".py",
   "mimetype": "text/x-python",
   "name": "python",
   "nbconvert_exporter": "python",
   "pygments_lexer": "ipython3",
   "version": "3.5.5"
  }
 },
 "nbformat": 4,
 "nbformat_minor": 2
}
