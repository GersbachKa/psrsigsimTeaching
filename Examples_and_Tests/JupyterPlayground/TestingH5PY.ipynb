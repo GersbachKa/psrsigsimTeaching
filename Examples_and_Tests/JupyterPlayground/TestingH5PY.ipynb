{
 "cells": [
  {
   "cell_type": "code",
   "execution_count": 1,
   "metadata": {},
   "outputs": [],
   "source": [
    "%load_ext autoreload\n",
    "%autoreload 2"
   ]
  },
  {
   "cell_type": "code",
   "execution_count": 2,
   "metadata": {},
   "outputs": [],
   "source": [
    "import sys\n",
    "sys.path.insert(0,'/home/kyle/GWA/NANOGrav/PsrSigSim/')\n",
    "import psrsigsim as PSS\n",
    "import numpy as np\n",
    "import os\n",
    "\n",
    "import bokeh.plotting as bplt\n"
   ]
  },
  {
   "cell_type": "code",
   "execution_count": 3,
   "metadata": {},
   "outputs": [],
   "source": [
    "import h5py\n",
    "import hashlib"
   ]
  },
  {
   "cell_type": "code",
   "execution_count": 4,
   "metadata": {},
   "outputs": [],
   "source": [
    "f = None\n",
    "try:\n",
    "    f=h5py.File('TestingFile.hdf5','w')\n",
    "except:\n",
    "    print(\"File already exists\")\n",
    "    os.remove('TestingFile.hdf5')\n",
    "    f=h5py.File('TestingFile.hdf5','w')"
   ]
  },
  {
   "cell_type": "code",
   "execution_count": 23,
   "metadata": {},
   "outputs": [
    {
     "name": "stdout",
     "output_type": "stream",
     "text": [
      "b24a6f606eb5eff60ba4ab75aeaec5b7\n"
     ]
    }
   ],
   "source": [
    "test = hashlib.md5(str.encode('Testing what this is capable of')).hexdigest()\n",
    "print(test)"
   ]
  },
  {
   "cell_type": "code",
   "execution_count": 6,
   "metadata": {},
   "outputs": [
    {
     "data": {
      "text/plain": [
       "<HDF5 dataset \"testing\": shape (), type \"|O\">"
      ]
     },
     "execution_count": 6,
     "metadata": {},
     "output_type": "execute_result"
    }
   ],
   "source": [
    "f.create_dataset(\"testing\",data=test)"
   ]
  },
  {
   "cell_type": "code",
   "execution_count": 7,
   "metadata": {},
   "outputs": [
    {
     "name": "stdout",
     "output_type": "stream",
     "text": [
      "test1\n",
      "test2\n"
     ]
    }
   ],
   "source": [
    "d1 = np.random.random(size = (2, 1000, 20))\n",
    "d2 = np.random.random(size = (2, 1000, 20))\n",
    "s1 = 'test'\n",
    "s2 = 'test'\n",
    "\n",
    "s1 += str(1)\n",
    "s2 += str(2)\n",
    "\n",
    "print(s1)\n",
    "print(s2)"
   ]
  },
  {
   "cell_type": "code",
   "execution_count": 8,
   "metadata": {},
   "outputs": [
    {
     "data": {
      "text/plain": [
       "<HDF5 dataset \"test2\": shape (2, 1000, 20), type \"<f8\">"
      ]
     },
     "execution_count": 8,
     "metadata": {},
     "output_type": "execute_result"
    }
   ],
   "source": [
    "f.create_dataset(s1, data=d1)\n",
    "f.create_dataset(s2, data=d2)"
   ]
  },
  {
   "cell_type": "code",
   "execution_count": 9,
   "metadata": {},
   "outputs": [],
   "source": [
    "f.close()"
   ]
  },
  {
   "cell_type": "code",
   "execution_count": 17,
   "metadata": {},
   "outputs": [],
   "source": [
    "try:\n",
    "    f=h5py.File('TestingFile.hdf5','r')\n",
    "except:\n",
    "    print(\"File not found!\")"
   ]
  },
  {
   "cell_type": "code",
   "execution_count": 16,
   "metadata": {},
   "outputs": [
    {
     "data": {
      "text/plain": [
       "KeysView(<Closed HDF5 file>)"
      ]
     },
     "execution_count": 16,
     "metadata": {},
     "output_type": "execute_result"
    }
   ],
   "source": [
    "f.keys()"
   ]
  },
  {
   "cell_type": "code",
   "execution_count": 18,
   "metadata": {},
   "outputs": [],
   "source": [
    "n1 = f.get('testing')\n",
    "n2 = f.get('test1')\n",
    "n3 = f.get('test2')"
   ]
  },
  {
   "cell_type": "code",
   "execution_count": 27,
   "metadata": {},
   "outputs": [
    {
     "name": "stdout",
     "output_type": "stream",
     "text": [
      "b24a6f606eb5eff60ba4ab75aeaec5b7\n",
      "b24a6f606eb5eff60ba4ab75aeaec5b7\n",
      "True\n"
     ]
    }
   ],
   "source": [
    "print(np.array2string(n1)[1:-1])\n",
    "print(test)\n",
    "print(np.array2string(n1)[1:-1]==test)"
   ]
  },
  {
   "cell_type": "code",
   "execution_count": 13,
   "metadata": {},
   "outputs": [],
   "source": [
    "f.close()"
   ]
  },
  {
   "cell_type": "code",
   "execution_count": null,
   "metadata": {},
   "outputs": [],
   "source": []
  },
  {
   "cell_type": "code",
   "execution_count": null,
   "metadata": {},
   "outputs": [],
   "source": []
  },
  {
   "cell_type": "code",
   "execution_count": 14,
   "metadata": {},
   "outputs": [],
   "source": [
    "psrData= None\n",
    "try:\n",
    "    psrData=h5py.File('PulsarTestingData.hdf5','w')\n",
    "except:\n",
    "    print(\"File already exists\")"
   ]
  },
  {
   "cell_type": "code",
   "execution_count": null,
   "metadata": {},
   "outputs": [],
   "source": [
    "\n",
    "#Default values for psr_dict\n",
    "psr_dict = {}\n",
    "psr_dict['f0'] = 1400                   #Central frequency\n",
    "psr_dict['F0'] = 218                    #Pulsar spin freq\n",
    "psr_dict['bw'] = 400                    #Bandwidth\n",
    "psr_dict['Nf'] = 512                    #Frequency bins\n",
    "psr_dict['ObsTime'] = 30                #Observation time\n",
    "psr_dict['f_samp'] = 4                  #Sampling frequency\n",
    "psr_dict['SignalType'] = \"intensity\"    #'intensity' which carries a Nf x Nt\n",
    "#filterbank of pulses or 'voltage' which carries a 4 x Nt array of\n",
    "#voltage vs. time pulses representing 4 stokes channels\n",
    "psr_dict['dm'] = 0.1                     #Dispersion Measure Pescs/(CM^3)\n",
    "# V_ISS -- Intersteller Scintilation Velocity\n",
    "psr_dict['scint_bw'] =  15.6            #Scintilation Bandwidth\n",
    "psr_dict['scint_timescale'] = 2630      #Scintilation Timescale\n",
    "# pulsar -- pulsar name\n",
    "# telescope -- telescope name(GBT or Arecibo)\n",
    "psr_dict['freq_band'] = 1400            #Frequency band [327 ,430, 820, 1400, 2300]\n",
    "# aperature -- aperature (m)\n",
    "# area -- collecting area (m^2)\n",
    "# Tsys -- system temp (K), total of receiver, sky, spillover, etc. (only needed for noise)\n",
    "# name -- GBT or Arecibo\n",
    "# tau_scatter -- scattering time (ms)\n",
    "psr_dict['radiometer_noise'] =  False   #radiometer noise\n",
    "psr_dict['data_type']='float32'            #\n",
    "psr_dict['flux'] = 3\n",
    "psr_dict['to_DM_Broaden'] = True\n"
   ]
  },
  {
   "cell_type": "code",
   "execution_count": null,
   "metadata": {},
   "outputs": [],
   "source": [
    "psr = PSS.Simulation(psr =  'J1713+0747' , sim_telescope= 'GBT',sim_ism= True, sim_scint= False, sim_dict = psr_dict)\n"
   ]
  },
  {
   "cell_type": "code",
   "execution_count": null,
   "metadata": {},
   "outputs": [],
   "source": [
    "psr.simulate()"
   ]
  },
  {
   "cell_type": "code",
   "execution_count": null,
   "metadata": {},
   "outputs": [],
   "source": [
    "data = psr.signal.signal[]"
   ]
  },
  {
   "cell_type": "code",
   "execution_count": null,
   "metadata": {},
   "outputs": [],
   "source": [
    "FullData = []\n",
    "i = 0.1\n",
    "while i<10.1:\n",
    "    psr_dict['dm']=i\n",
    "    psr = PSS.Simulation(psr =  'J1713+0747' , sim_telescope= 'GBT',sim_ism= True, sim_scint= False, sim_dict = psr_dict)\n",
    "    psr.simulate()\n",
    "    "
   ]
  }
 ],
 "metadata": {
  "kernelspec": {
   "display_name": "Python 3",
   "language": "python",
   "name": "python3"
  },
  "language_info": {
   "codemirror_mode": {
    "name": "ipython",
    "version": 3
   },
   "file_extension": ".py",
   "mimetype": "text/x-python",
   "name": "python",
   "nbconvert_exporter": "python",
   "pygments_lexer": "ipython3",
   "version": "3.5.5"
  }
 },
 "nbformat": 4,
 "nbformat_minor": 2
}
