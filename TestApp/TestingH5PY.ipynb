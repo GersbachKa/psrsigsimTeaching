{
 "cells": [
  {
   "cell_type": "code",
   "execution_count": 5,
   "metadata": {},
   "outputs": [
    {
     "name": "stdout",
     "output_type": "stream",
     "text": [
      "The autoreload extension is already loaded. To reload it, use:\n",
      "  %reload_ext autoreload\n"
     ]
    }
   ],
   "source": [
    "%load_ext autoreload\n",
    "%autoreload 2"
   ]
  },
  {
   "cell_type": "code",
   "execution_count": 6,
   "metadata": {},
   "outputs": [],
   "source": [
    "import sys\n",
    "sys.path.insert(0,'/home/kyle/GWA/NANOGrav/PsrSigSim/')\n",
    "import psrsigsim as PSS\n",
    "import numpy as np\n",
    "\n",
    "import bokeh.plotting as bplt\n"
   ]
  },
  {
   "cell_type": "code",
   "execution_count": 7,
   "metadata": {},
   "outputs": [],
   "source": [
    "import h5py"
   ]
  },
  {
   "cell_type": "code",
   "execution_count": 8,
   "metadata": {},
   "outputs": [],
   "source": [
    "f = None\n",
    "try:\n",
    "    f=h5py.File('TestingFile.hdf5','w')\n",
    "except:\n",
    "    print(\"File already exists\")"
   ]
  },
  {
   "cell_type": "code",
   "execution_count": null,
   "metadata": {},
   "outputs": [],
   "source": []
  },
  {
   "cell_type": "code",
   "execution_count": null,
   "metadata": {},
   "outputs": [],
   "source": []
  },
  {
   "cell_type": "code",
   "execution_count": null,
   "metadata": {},
   "outputs": [],
   "source": [
    "dic = {}\n",
    "dic['a'] = 12\n",
    "dic['b'] = 13\n",
    "f.create_dataset('Dictionary1', data=dic)"
   ]
  },
  {
   "cell_type": "code",
   "execution_count": 5,
   "metadata": {},
   "outputs": [
    {
     "name": "stdout",
     "output_type": "stream",
     "text": [
      "test1\n",
      "test2\n"
     ]
    }
   ],
   "source": [
    "d1 = np.random.random(size = (2, 1000, 20))\n",
    "d2 = np.random.random(size = (2, 1000, 20))\n",
    "s1 = 'test'\n",
    "s2 = 'test'\n",
    "\n",
    "s1 += str(1)\n",
    "s2 += str(2)\n",
    "\n",
    "print(s1)\n",
    "print(s2)"
   ]
  },
  {
   "cell_type": "code",
   "execution_count": 6,
   "metadata": {},
   "outputs": [
    {
     "data": {
      "text/plain": [
       "<HDF5 dataset \"test2\": shape (2, 1000, 20), type \"<f8\">"
      ]
     },
     "execution_count": 6,
     "metadata": {},
     "output_type": "execute_result"
    }
   ],
   "source": [
    "f.create_dataset(s1, data=d1)\n",
    "f.create_dataset(s2, data=d2)"
   ]
  },
  {
   "cell_type": "code",
   "execution_count": 9,
   "metadata": {},
   "outputs": [],
   "source": [
    "f.close()"
   ]
  },
  {
   "cell_type": "code",
   "execution_count": 10,
   "metadata": {},
   "outputs": [],
   "source": [
    "try:\n",
    "    f=h5py.File('TestingFile.hdf5','r')\n",
    "except:\n",
    "    print(\"File not found!\")"
   ]
  },
  {
   "cell_type": "code",
   "execution_count": 9,
   "metadata": {},
   "outputs": [
    {
     "data": {
      "text/plain": [
       "KeysView(<HDF5 file \"TestingFile.hdf5\" (mode r+)>)"
      ]
     },
     "execution_count": 9,
     "metadata": {},
     "output_type": "execute_result"
    }
   ],
   "source": [
    "f.keys()"
   ]
  },
  {
   "cell_type": "code",
   "execution_count": 12,
   "metadata": {},
   "outputs": [],
   "source": [
    "n1 = f.get('test1')"
   ]
  },
  {
   "cell_type": "code",
   "execution_count": 13,
   "metadata": {},
   "outputs": [
    {
     "data": {
      "text/plain": [
       "array([[[0.22818686, 0.79980061, 0.88983824, ..., 0.5621665 ,\n",
       "         0.90456647, 0.99504601],\n",
       "        [0.31148815, 0.22600944, 0.09950245, ..., 0.13959904,\n",
       "         0.52489024, 0.10495126],\n",
       "        [0.09525413, 0.27801423, 0.90685286, ..., 0.2171173 ,\n",
       "         0.71337346, 0.75006427],\n",
       "        ...,\n",
       "        [0.36596186, 0.10807614, 0.15949066, ..., 0.12658224,\n",
       "         0.44872306, 0.56452548],\n",
       "        [0.37507589, 0.29569855, 0.93123777, ..., 0.7771102 ,\n",
       "         0.59260014, 0.45491311],\n",
       "        [0.20448754, 0.7628025 , 0.03535022, ..., 0.53405503,\n",
       "         0.49813068, 0.08616828]],\n",
       "\n",
       "       [[0.64732817, 0.67815467, 0.05233353, ..., 0.45229514,\n",
       "         0.9540326 , 0.217771  ],\n",
       "        [0.4771183 , 0.96666093, 0.75028224, ..., 0.91619103,\n",
       "         0.98723495, 0.58287605],\n",
       "        [0.74607622, 0.15454963, 0.96303333, ..., 0.67525204,\n",
       "         0.40493881, 0.82665057],\n",
       "        ...,\n",
       "        [0.47710857, 0.10988766, 0.49954124, ..., 0.87338418,\n",
       "         0.79301667, 0.09410249],\n",
       "        [0.95982911, 0.78503354, 0.84781576, ..., 0.05513711,\n",
       "         0.33123311, 0.2515339 ],\n",
       "        [0.06717263, 0.31504854, 0.96482509, ..., 0.75041077,\n",
       "         0.51699544, 0.27918625]]])"
      ]
     },
     "execution_count": 13,
     "metadata": {},
     "output_type": "execute_result"
    }
   ],
   "source": [
    "n1 = np.array(n1)\n",
    "n1"
   ]
  },
  {
   "cell_type": "code",
   "execution_count": 14,
   "metadata": {},
   "outputs": [],
   "source": [
    "f.close()"
   ]
  },
  {
   "cell_type": "code",
   "execution_count": 15,
   "metadata": {},
   "outputs": [],
   "source": [
    "psrData= None\n",
    "try:\n",
    "    psrData=h5py.File('PulsarTestingData.hdf5','w')\n",
    "except:\n",
    "    print(\"File already exists\")"
   ]
  },
  {
   "cell_type": "code",
   "execution_count": 11,
   "metadata": {},
   "outputs": [],
   "source": [
    "\n",
    "#Default values for psr_dict\n",
    "psr_dict = {}\n",
    "psr_dict['f0'] = 1400                   #Central frequency\n",
    "psr_dict['F0'] = 218                    #Pulsar spin freq\n",
    "psr_dict['bw'] = 400                    #Bandwidth\n",
    "psr_dict['Nf'] = 512                    #Frequency bins\n",
    "psr_dict['ObsTime'] = 30                #Observation time\n",
    "psr_dict['f_samp'] = 4                  #Sampling frequency\n",
    "psr_dict['SignalType'] = \"intensity\"    #'intensity' which carries a Nf x Nt\n",
    "#filterbank of pulses or 'voltage' which carries a 4 x Nt array of\n",
    "#voltage vs. time pulses representing 4 stokes channels\n",
    "psr_dict['dm'] = 0.1                     #Dispersion Measure Pescs/(CM^3)\n",
    "# V_ISS -- Intersteller Scintilation Velocity\n",
    "psr_dict['scint_bw'] =  15.6            #Scintilation Bandwidth\n",
    "psr_dict['scint_timescale'] = 2630      #Scintilation Timescale\n",
    "# pulsar -- pulsar name\n",
    "# telescope -- telescope name(GBT or Arecibo)\n",
    "psr_dict['freq_band'] = 1400            #Frequency band [327 ,430, 820, 1400, 2300]\n",
    "# aperature -- aperature (m)\n",
    "# area -- collecting area (m^2)\n",
    "# Tsys -- system temp (K), total of receiver, sky, spillover, etc. (only needed for noise)\n",
    "# name -- GBT or Arecibo\n",
    "# tau_scatter -- scattering time (ms)\n",
    "psr_dict['radiometer_noise'] =  False   #radiometer noise\n",
    "psr_dict['data_type']='float32'            #\n",
    "psr_dict['flux'] = 3\n",
    "psr_dict['to_DM_Broaden'] = True\n"
   ]
  },
  {
   "cell_type": "code",
   "execution_count": 12,
   "metadata": {},
   "outputs": [
    {
     "name": "stderr",
     "output_type": "stream",
     "text": [
      "WARNING: Unrecognized parfile line 'T2CMETHOD           TEMPO' [pint.models.timing_model]\n",
      "WARNING: Unrecognized parfile line 'MODE                     1' [pint.models.timing_model]\n",
      "WARNING: Unrecognized parfile line 'INFO -f' [pint.models.timing_model]\n",
      "WARNING: DDK model uses KIN as inclination angle. SINI will not be used. [pint.models.stand_alone_psr_binaries.DDK_model]\n"
     ]
    },
    {
     "name": "stdout",
     "output_type": "stream",
     "text": [
      "INFO: Using ICRS equatorial coordinate. The parameter KOM is measured respect to equatorial North. [pint.models.binary_ddk]\n",
      "Five warnings should appear. Warnings that are normal are: Unrecognized parfile line \"SOLARN0\", \"T2CMETHOD\", \"MODE\", \"INFO -f\". Warning about \"DDK model\" is also normal.  \n",
      "Two 'F0' values input. Simulator will default to input dictionary value.\n",
      "Two 'dm' values input. Simulator will default to input dictionary value.\n"
     ]
    }
   ],
   "source": [
    "psr = PSS.Simulation(psr =  'J1713+0747' , sim_telescope= 'GBT',sim_ism= True, sim_scint= False, sim_dict = psr_dict)\n"
   ]
  },
  {
   "cell_type": "code",
   "execution_count": 18,
   "metadata": {},
   "outputs": [
    {
     "name": "stderr",
     "output_type": "stream",
     "text": [
      "/home/kyle/anaconda3/lib/python3.5/site-packages/mkl_fft/_numpy_fft.py:1044: FutureWarning: Using a non-tuple sequence for multidimensional indexing is deprecated; use `arr[tuple(seq)]` instead of `arr[seq]`. In the future this will be interpreted as an array index, `arr[np.array(seq)]`, which will result either in an error or a different result.\n",
      "  output = mkl_fft.rfftn_numpy(a, s, axes)\n",
      "/home/kyle/GWA/NANOGrav/PsrSigSim/psrsigsim/ism.py:237: RuntimeWarning: invalid value encountered in true_divide\n",
      "  input_array_norm = input_array[ii,:] / input_array_sum\n"
     ]
    },
    {
     "name": "stdout",
     "output_type": "stream",
     "text": [
      "98% dispersed in 7.103 seconds."
     ]
    }
   ],
   "source": [
    "psr.simulate()"
   ]
  },
  {
   "cell_type": "code",
   "execution_count": null,
   "metadata": {},
   "outputs": [],
   "source": [
    "data = psr.signal.signal[]"
   ]
  },
  {
   "cell_type": "code",
   "execution_count": null,
   "metadata": {},
   "outputs": [],
   "source": [
    "FullData = []\n",
    "i = 0.1\n",
    "while i<10.1:\n",
    "    psr_dict['dm']=i\n",
    "    psr = PSS.Simulation(psr =  'J1713+0747' , sim_telescope= 'GBT',sim_ism= True, sim_scint= False, sim_dict = psr_dict)\n",
    "    psr.simulate()\n",
    "    "
   ]
  }
 ],
 "metadata": {
  "kernelspec": {
   "display_name": "Python 3",
   "language": "python",
   "name": "python3"
  },
  "language_info": {
   "codemirror_mode": {
    "name": "ipython",
    "version": 3
   },
   "file_extension": ".py",
   "mimetype": "text/x-python",
   "name": "python",
   "nbconvert_exporter": "python",
   "pygments_lexer": "ipython3",
   "version": "3.5.5"
  }
 },
 "nbformat": 4,
 "nbformat_minor": 2
}
