{
 "cells": [
  {
   "cell_type": "code",
   "execution_count": 1,
   "metadata": {},
   "outputs": [],
   "source": [
    "%load_ext autoreload\n",
    "%autoreload 2"
   ]
  },
  {
   "cell_type": "code",
   "execution_count": 2,
   "metadata": {},
   "outputs": [],
   "source": [
    "from __future__ import (absolute_import, division, print_function, unicode_literals)\n",
    "import sys\n",
    "sys.path.insert(0,'/home/kyle/GWA/NANOGrav/PsrSigSim/')\n",
    "import psrsigsim as PSS\n",
    "\n",
    "\n",
    "import bokeh.plotting as bplt\n",
    "import numpy as np\n",
    "from psrsigsim import PSS_utils as utils"
   ]
  },
  {
   "cell_type": "code",
   "execution_count": 4,
   "metadata": {},
   "outputs": [],
   "source": [
    "\n",
    "psr_dict = {}\n",
    "psr_dict['f0'] = 1400                   #Central frequency\n",
    "psr_dict['F0'] = 218                    #Pulsar spin freq\n",
    "psr_dict['bw'] = 100                    #Bandwidth\n",
    "psr_dict['Nf'] = 100                    #Frequency bins\n",
    "psr_dict['ObsTime'] = 30                #Observation time\n",
    "psr_dict['f_samp'] = 4                  #Sampling frequency\n",
    "psr_dict['SignalType'] = \"intensity\"    #'intensity' which carries a Nf x Nt\n",
    "#filterbank of pulses or 'voltage' which carries a 4 x Nt array of\n",
    "#voltage vs. time pulses representing 4 stokes channels\n",
    "psr_dict['dm'] = .5                      #Dispersion Measure Pescs/(CM^3)\n",
    "# V_ISS -- Intersteller Scintilation Velocity\n",
    "psr_dict['scint_bw'] =  15.6            #Scintilation Bandwidth\n",
    "psr_dict['scint_timescale'] = 2630      #Scintilation Timescale\n",
    "# pulsar -- pulsar name\n",
    "# telescope -- telescope name(GBT or Arecibo)\n",
    "psr_dict['freq_band'] = 1400            #Frequency band [327 ,430, 820, 1400, 2300]\n",
    "# aperature -- aperature (m)\n",
    "# area -- collecting area (m^2)\n",
    "# Tsys -- system temp (K), total of receiver, sky, spillover, etc. (only needed for noise)\n",
    "# name -- GBT or Arecibo\n",
    "# tau_scatter -- scattering time (ms)\n",
    "psr_dict['radiometer_noise'] =  False   #radiometer noise\n",
    "psr_dict['data_type']='int8'            #\n",
    "psr_dict['flux'] = 3\n",
    "psr_dict['to_DM_Broaden'] = True\n"
   ]
  },
  {
   "cell_type": "code",
   "execution_count": 5,
   "metadata": {},
   "outputs": [
    {
     "name": "stderr",
     "output_type": "stream",
     "text": [
      "WARNING: Unrecognized parfile line 'T2CMETHOD           TEMPO' [pint.models.timing_model]\n",
      "WARNING: Unrecognized parfile line 'MODE                     1' [pint.models.timing_model]\n",
      "WARNING: Unrecognized parfile line 'INFO -f' [pint.models.timing_model]\n",
      "WARNING: DDK model uses KIN as inclination angle. SINI will not be used. [pint.models.stand_alone_psr_binaries.DDK_model]\n"
     ]
    },
    {
     "name": "stdout",
     "output_type": "stream",
     "text": [
      "INFO: Using ICRS equatorial coordinate. The parameter KOM is measured respect to equatorial North. [pint.models.binary_ddk]\n",
      "Five warnings should appear. Warnings that are normal are: Unrecognized parfile line \"SOLARN0\", \"T2CMETHOD\", \"MODE\", \"INFO -f\". Warning about \"DDK model\" is also normal.  \n",
      "Two 'F0' values input. Simulator will default to input dictionary value.\n",
      "Two 'dm' values input. Simulator will default to input dictionary value.\n"
     ]
    },
    {
     "name": "stderr",
     "output_type": "stream",
     "text": [
      "/home/kyle/anaconda3/lib/python3.5/site-packages/mkl_fft/_numpy_fft.py:1044: FutureWarning: Using a non-tuple sequence for multidimensional indexing is deprecated; use `arr[tuple(seq)]` instead of `arr[seq]`. In the future this will be interpreted as an array index, `arr[np.array(seq)]`, which will result either in an error or a different result.\n",
      "  output = mkl_fft.rfftn_numpy(a, s, axes)\n"
     ]
    },
    {
     "name": "stdout",
     "output_type": "stream",
     "text": [
      "100% dispersed in 1.549 seconds."
     ]
    }
   ],
   "source": [
    "s1 =  PSS.Simulation(psr =  'J1713+0747' , sim_telescope= 'GBT',sim_ism= True, sim_scint= False, sim_dict = psr_dict,)\n",
    "s1.simulate()\n"
   ]
  },
  {
   "cell_type": "code",
   "execution_count": 7,
   "metadata": {},
   "outputs": [
    {
     "ename": "AttributeError",
     "evalue": "'Signal' object has no attribute 'bokeh_filter_bank'",
     "output_type": "error",
     "traceback": [
      "\u001b[0;31m---------------------------------------------------------------------------\u001b[0m",
      "\u001b[0;31mAttributeError\u001b[0m                            Traceback (most recent call last)",
      "\u001b[0;32m<ipython-input-7-4640a4154b02>\u001b[0m in \u001b[0;36m<module>\u001b[0;34m()\u001b[0m\n\u001b[0;32m----> 1\u001b[0;31m \u001b[0ms1\u001b[0m\u001b[0;34m.\u001b[0m\u001b[0msignal\u001b[0m\u001b[0;34m.\u001b[0m\u001b[0mbokeh_filter_bank\u001b[0m\u001b[0;34m(\u001b[0m\u001b[0mnotebook\u001b[0m \u001b[0;34m=\u001b[0m \u001b[0;32mTrue\u001b[0m\u001b[0;34m)\u001b[0m\u001b[0;34m\u001b[0m\u001b[0m\n\u001b[0m",
      "\u001b[0;31mAttributeError\u001b[0m: 'Signal' object has no attribute 'bokeh_filter_bank'"
     ]
    }
   ],
   "source": [
    "s1.signal.bokeh_filter_bank(notebook = True)"
   ]
  },
  {
   "cell_type": "code",
   "execution_count": 6,
   "metadata": {},
   "outputs": [
    {
     "ename": "NameError",
     "evalue": "name 'psr_dict' is not defined",
     "output_type": "error",
     "traceback": [
      "\u001b[0;31m---------------------------------------------------------------------------\u001b[0m",
      "\u001b[0;31mNameError\u001b[0m                                 Traceback (most recent call last)",
      "\u001b[0;32m<ipython-input-6-783aa5616ec6>\u001b[0m in \u001b[0;36m<module>\u001b[0;34m\u001b[0m\n\u001b[0;32m----> 1\u001b[0;31m \u001b[0mpsr_dict\u001b[0m\u001b[0;34m[\u001b[0m\u001b[0;34m'dm'\u001b[0m\u001b[0;34m]\u001b[0m \u001b[0;34m=\u001b[0m \u001b[0;36m10\u001b[0m\u001b[0;34m\u001b[0m\u001b[0m\n\u001b[0m\u001b[1;32m      2\u001b[0m \u001b[0ms1\u001b[0m \u001b[0;34m=\u001b[0m  \u001b[0mPSS\u001b[0m\u001b[0;34m.\u001b[0m\u001b[0mSimulation\u001b[0m\u001b[0;34m(\u001b[0m\u001b[0mpsr\u001b[0m \u001b[0;34m=\u001b[0m  \u001b[0;34m'J1713+0747'\u001b[0m \u001b[0;34m,\u001b[0m \u001b[0msim_telescope\u001b[0m\u001b[0;34m=\u001b[0m \u001b[0;34m'GBT'\u001b[0m\u001b[0;34m,\u001b[0m\u001b[0msim_ism\u001b[0m\u001b[0;34m=\u001b[0m \u001b[0;32mTrue\u001b[0m\u001b[0;34m,\u001b[0m \u001b[0msim_scint\u001b[0m\u001b[0;34m=\u001b[0m \u001b[0;32mFalse\u001b[0m\u001b[0;34m,\u001b[0m \u001b[0msim_dict\u001b[0m \u001b[0;34m=\u001b[0m \u001b[0mpsr_dict\u001b[0m\u001b[0;34m,\u001b[0m\u001b[0;34m)\u001b[0m\u001b[0;34m\u001b[0m\u001b[0m\n\u001b[1;32m      3\u001b[0m \u001b[0ms1\u001b[0m\u001b[0;34m.\u001b[0m\u001b[0msimulate\u001b[0m\u001b[0;34m(\u001b[0m\u001b[0;34m)\u001b[0m\u001b[0;34m\u001b[0m\u001b[0m\n\u001b[1;32m      4\u001b[0m \u001b[0ms1\u001b[0m\u001b[0;34m.\u001b[0m\u001b[0msignal\u001b[0m\u001b[0;34m.\u001b[0m\u001b[0mbokeh_filter_bank\u001b[0m\u001b[0;34m(\u001b[0m\u001b[0mnotebook\u001b[0m \u001b[0;34m=\u001b[0m \u001b[0;32mTrue\u001b[0m\u001b[0;34m)\u001b[0m\u001b[0;34m\u001b[0m\u001b[0m\n",
      "\u001b[0;31mNameError\u001b[0m: name 'psr_dict' is not defined"
     ]
    }
   ],
   "source": [
    "psr_dict['dm'] = 10\n",
    "s1 =  PSS.Simulation(psr =  'J1713+0747' , sim_telescope= 'GBT',sim_ism= True, sim_scint= False, sim_dict = psr_dict,)\n",
    "s1.simulate()\n",
    "s1.signal.bokeh_filter_bank(notebook = True)"
   ]
  },
  {
   "cell_type": "code",
   "execution_count": 1,
   "metadata": {},
   "outputs": [],
   "source": [
    "import h5py"
   ]
  },
  {
   "cell_type": "code",
   "execution_count": 5,
   "metadata": {},
   "outputs": [],
   "source": [
    "f = h5py.File('mytestfile.hdf5', 'a')"
   ]
  },
  {
   "cell_type": "code",
   "execution_count": null,
   "metadata": {},
   "outputs": [],
   "source": [
    "dataset = f.create_dataset('Name',shape,datatype)"
   ]
  }
 ],
 "metadata": {
  "kernelspec": {
   "display_name": "Python 3",
   "language": "python",
   "name": "python3"
  },
  "language_info": {
   "codemirror_mode": {
    "name": "ipython",
    "version": 3
   },
   "file_extension": ".py",
   "mimetype": "text/x-python",
   "name": "python",
   "nbconvert_exporter": "python",
   "pygments_lexer": "ipython3",
   "version": "3.5.5"
  }
 },
 "nbformat": 4,
 "nbformat_minor": 2
}
